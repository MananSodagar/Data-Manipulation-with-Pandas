{
 "cells": [
  {
   "cell_type": "code",
   "execution_count": 1,
   "id": "legitimate-boxing",
   "metadata": {},
   "outputs": [],
   "source": [
    "import pandas as pd"
   ]
  },
  {
   "cell_type": "code",
   "execution_count": 21,
   "id": "round-project",
   "metadata": {},
   "outputs": [],
   "source": [
    "df= pd.read_csv(\"./AAPL.csv\" , parse_dates=True , index_col=\"Date\" )"
   ]
  },
  {
   "cell_type": "code",
   "execution_count": 58,
   "id": "satisfied-prompt",
   "metadata": {},
   "outputs": [
    {
     "data": {
      "text/html": [
       "<div>\n",
       "<style scoped>\n",
       "    .dataframe tbody tr th:only-of-type {\n",
       "        vertical-align: middle;\n",
       "    }\n",
       "\n",
       "    .dataframe tbody tr th {\n",
       "        vertical-align: top;\n",
       "    }\n",
       "\n",
       "    .dataframe thead th {\n",
       "        text-align: right;\n",
       "    }\n",
       "</style>\n",
       "<table border=\"1\" class=\"dataframe\">\n",
       "  <thead>\n",
       "    <tr style=\"text-align: right;\">\n",
       "      <th></th>\n",
       "      <th>Open</th>\n",
       "      <th>High</th>\n",
       "      <th>Low</th>\n",
       "      <th>Close</th>\n",
       "      <th>Adj Close</th>\n",
       "      <th>Volume</th>\n",
       "    </tr>\n",
       "    <tr>\n",
       "      <th>Date</th>\n",
       "      <th></th>\n",
       "      <th></th>\n",
       "      <th></th>\n",
       "      <th></th>\n",
       "      <th></th>\n",
       "      <th></th>\n",
       "    </tr>\n",
       "  </thead>\n",
       "  <tbody>\n",
       "    <tr>\n",
       "      <th>2020-09-24</th>\n",
       "      <td>105.169998</td>\n",
       "      <td>110.250000</td>\n",
       "      <td>105.000000</td>\n",
       "      <td>108.220001</td>\n",
       "      <td>107.528404</td>\n",
       "      <td>167743300</td>\n",
       "    </tr>\n",
       "    <tr>\n",
       "      <th>2020-09-25</th>\n",
       "      <td>108.430000</td>\n",
       "      <td>112.440002</td>\n",
       "      <td>107.669998</td>\n",
       "      <td>112.279999</td>\n",
       "      <td>111.562439</td>\n",
       "      <td>149981400</td>\n",
       "    </tr>\n",
       "    <tr>\n",
       "      <th>2020-09-28</th>\n",
       "      <td>115.010002</td>\n",
       "      <td>115.320000</td>\n",
       "      <td>112.779999</td>\n",
       "      <td>114.959999</td>\n",
       "      <td>114.225311</td>\n",
       "      <td>137672400</td>\n",
       "    </tr>\n",
       "    <tr>\n",
       "      <th>2020-09-29</th>\n",
       "      <td>114.550003</td>\n",
       "      <td>115.309998</td>\n",
       "      <td>113.570000</td>\n",
       "      <td>114.089996</td>\n",
       "      <td>113.360878</td>\n",
       "      <td>99382200</td>\n",
       "    </tr>\n",
       "    <tr>\n",
       "      <th>2020-09-30</th>\n",
       "      <td>113.790001</td>\n",
       "      <td>117.260002</td>\n",
       "      <td>113.620003</td>\n",
       "      <td>115.809998</td>\n",
       "      <td>115.069893</td>\n",
       "      <td>142675200</td>\n",
       "    </tr>\n",
       "    <tr>\n",
       "      <th>...</th>\n",
       "      <td>...</td>\n",
       "      <td>...</td>\n",
       "      <td>...</td>\n",
       "      <td>...</td>\n",
       "      <td>...</td>\n",
       "      <td>...</td>\n",
       "    </tr>\n",
       "    <tr>\n",
       "      <th>2021-09-17</th>\n",
       "      <td>148.820007</td>\n",
       "      <td>148.820007</td>\n",
       "      <td>145.759995</td>\n",
       "      <td>146.059998</td>\n",
       "      <td>146.059998</td>\n",
       "      <td>129728700</td>\n",
       "    </tr>\n",
       "    <tr>\n",
       "      <th>2021-09-20</th>\n",
       "      <td>143.800003</td>\n",
       "      <td>144.839996</td>\n",
       "      <td>141.270004</td>\n",
       "      <td>142.940002</td>\n",
       "      <td>142.940002</td>\n",
       "      <td>123478900</td>\n",
       "    </tr>\n",
       "    <tr>\n",
       "      <th>2021-09-21</th>\n",
       "      <td>143.929993</td>\n",
       "      <td>144.600006</td>\n",
       "      <td>142.779999</td>\n",
       "      <td>143.429993</td>\n",
       "      <td>143.429993</td>\n",
       "      <td>75834000</td>\n",
       "    </tr>\n",
       "    <tr>\n",
       "      <th>2021-09-22</th>\n",
       "      <td>144.449997</td>\n",
       "      <td>146.429993</td>\n",
       "      <td>143.699997</td>\n",
       "      <td>145.850006</td>\n",
       "      <td>145.850006</td>\n",
       "      <td>76404300</td>\n",
       "    </tr>\n",
       "    <tr>\n",
       "      <th>2021-09-23</th>\n",
       "      <td>146.649994</td>\n",
       "      <td>147.080002</td>\n",
       "      <td>145.639999</td>\n",
       "      <td>146.830002</td>\n",
       "      <td>146.830002</td>\n",
       "      <td>64755200</td>\n",
       "    </tr>\n",
       "  </tbody>\n",
       "</table>\n",
       "<p>252 rows × 6 columns</p>\n",
       "</div>"
      ],
      "text/plain": [
       "                  Open        High         Low       Close   Adj Close  \\\n",
       "Date                                                                     \n",
       "2020-09-24  105.169998  110.250000  105.000000  108.220001  107.528404   \n",
       "2020-09-25  108.430000  112.440002  107.669998  112.279999  111.562439   \n",
       "2020-09-28  115.010002  115.320000  112.779999  114.959999  114.225311   \n",
       "2020-09-29  114.550003  115.309998  113.570000  114.089996  113.360878   \n",
       "2020-09-30  113.790001  117.260002  113.620003  115.809998  115.069893   \n",
       "...                ...         ...         ...         ...         ...   \n",
       "2021-09-17  148.820007  148.820007  145.759995  146.059998  146.059998   \n",
       "2021-09-20  143.800003  144.839996  141.270004  142.940002  142.940002   \n",
       "2021-09-21  143.929993  144.600006  142.779999  143.429993  143.429993   \n",
       "2021-09-22  144.449997  146.429993  143.699997  145.850006  145.850006   \n",
       "2021-09-23  146.649994  147.080002  145.639999  146.830002  146.830002   \n",
       "\n",
       "               Volume  \n",
       "Date                   \n",
       "2020-09-24  167743300  \n",
       "2020-09-25  149981400  \n",
       "2020-09-28  137672400  \n",
       "2020-09-29   99382200  \n",
       "2020-09-30  142675200  \n",
       "...               ...  \n",
       "2021-09-17  129728700  \n",
       "2021-09-20  123478900  \n",
       "2021-09-21   75834000  \n",
       "2021-09-22   76404300  \n",
       "2021-09-23   64755200  \n",
       "\n",
       "[252 rows x 6 columns]"
      ]
     },
     "execution_count": 58,
     "metadata": {},
     "output_type": "execute_result"
    }
   ],
   "source": [
    "df"
   ]
  },
  {
   "cell_type": "code",
   "execution_count": 23,
   "id": "related-pixel",
   "metadata": {},
   "outputs": [
    {
     "data": {
      "text/plain": [
       "DatetimeIndex(['2020-09-24', '2020-09-25', '2020-09-28', '2020-09-29',\n",
       "               '2020-09-30', '2020-10-01', '2020-10-02', '2020-10-05',\n",
       "               '2020-10-06', '2020-10-07',\n",
       "               ...\n",
       "               '2021-09-10', '2021-09-13', '2021-09-14', '2021-09-15',\n",
       "               '2021-09-16', '2021-09-17', '2021-09-20', '2021-09-21',\n",
       "               '2021-09-22', '2021-09-23'],\n",
       "              dtype='datetime64[ns]', name='Date', length=252, freq=None)"
      ]
     },
     "execution_count": 23,
     "metadata": {},
     "output_type": "execute_result"
    }
   ],
   "source": [
    "df.index"
   ]
  },
  {
   "cell_type": "code",
   "execution_count": 31,
   "id": "composite-specific",
   "metadata": {},
   "outputs": [
    {
     "data": {
      "text/html": [
       "<div>\n",
       "<style scoped>\n",
       "    .dataframe tbody tr th:only-of-type {\n",
       "        vertical-align: middle;\n",
       "    }\n",
       "\n",
       "    .dataframe tbody tr th {\n",
       "        vertical-align: top;\n",
       "    }\n",
       "\n",
       "    .dataframe thead th {\n",
       "        text-align: right;\n",
       "    }\n",
       "</style>\n",
       "<table border=\"1\" class=\"dataframe\">\n",
       "  <thead>\n",
       "    <tr style=\"text-align: right;\">\n",
       "      <th></th>\n",
       "      <th>Open</th>\n",
       "      <th>High</th>\n",
       "      <th>Low</th>\n",
       "      <th>Close</th>\n",
       "      <th>Adj Close</th>\n",
       "      <th>Volume</th>\n",
       "    </tr>\n",
       "    <tr>\n",
       "      <th>Date</th>\n",
       "      <th></th>\n",
       "      <th></th>\n",
       "      <th></th>\n",
       "      <th></th>\n",
       "      <th></th>\n",
       "      <th></th>\n",
       "    </tr>\n",
       "  </thead>\n",
       "  <tbody>\n",
       "    <tr>\n",
       "      <th>2020-09-24</th>\n",
       "      <td>105.169998</td>\n",
       "      <td>110.250000</td>\n",
       "      <td>105.000000</td>\n",
       "      <td>108.220001</td>\n",
       "      <td>107.528404</td>\n",
       "      <td>167743300</td>\n",
       "    </tr>\n",
       "    <tr>\n",
       "      <th>2020-09-25</th>\n",
       "      <td>108.430000</td>\n",
       "      <td>112.440002</td>\n",
       "      <td>107.669998</td>\n",
       "      <td>112.279999</td>\n",
       "      <td>111.562439</td>\n",
       "      <td>149981400</td>\n",
       "    </tr>\n",
       "    <tr>\n",
       "      <th>2020-09-28</th>\n",
       "      <td>115.010002</td>\n",
       "      <td>115.320000</td>\n",
       "      <td>112.779999</td>\n",
       "      <td>114.959999</td>\n",
       "      <td>114.225311</td>\n",
       "      <td>137672400</td>\n",
       "    </tr>\n",
       "    <tr>\n",
       "      <th>2020-09-29</th>\n",
       "      <td>114.550003</td>\n",
       "      <td>115.309998</td>\n",
       "      <td>113.570000</td>\n",
       "      <td>114.089996</td>\n",
       "      <td>113.360878</td>\n",
       "      <td>99382200</td>\n",
       "    </tr>\n",
       "    <tr>\n",
       "      <th>2020-09-30</th>\n",
       "      <td>113.790001</td>\n",
       "      <td>117.260002</td>\n",
       "      <td>113.620003</td>\n",
       "      <td>115.809998</td>\n",
       "      <td>115.069893</td>\n",
       "      <td>142675200</td>\n",
       "    </tr>\n",
       "    <tr>\n",
       "      <th>2020-10-01</th>\n",
       "      <td>117.639999</td>\n",
       "      <td>117.720001</td>\n",
       "      <td>115.830002</td>\n",
       "      <td>116.790001</td>\n",
       "      <td>116.043625</td>\n",
       "      <td>116120400</td>\n",
       "    </tr>\n",
       "  </tbody>\n",
       "</table>\n",
       "</div>"
      ],
      "text/plain": [
       "                  Open        High         Low       Close   Adj Close  \\\n",
       "Date                                                                     \n",
       "2020-09-24  105.169998  110.250000  105.000000  108.220001  107.528404   \n",
       "2020-09-25  108.430000  112.440002  107.669998  112.279999  111.562439   \n",
       "2020-09-28  115.010002  115.320000  112.779999  114.959999  114.225311   \n",
       "2020-09-29  114.550003  115.309998  113.570000  114.089996  113.360878   \n",
       "2020-09-30  113.790001  117.260002  113.620003  115.809998  115.069893   \n",
       "2020-10-01  117.639999  117.720001  115.830002  116.790001  116.043625   \n",
       "\n",
       "               Volume  \n",
       "Date                   \n",
       "2020-09-24  167743300  \n",
       "2020-09-25  149981400  \n",
       "2020-09-28  137672400  \n",
       "2020-09-29   99382200  \n",
       "2020-09-30  142675200  \n",
       "2020-10-01  116120400  "
      ]
     },
     "execution_count": 31,
     "metadata": {},
     "output_type": "execute_result"
    }
   ],
   "source": [
    "df[\"2020-09-24\":\"2020-10-1\"]"
   ]
  },
  {
   "cell_type": "code",
   "execution_count": 32,
   "id": "approximate-relation",
   "metadata": {},
   "outputs": [
    {
     "name": "stderr",
     "output_type": "stream",
     "text": [
      "<ipython-input-32-02ab39a0f8ee>:1: FutureWarning: Indexing a DataFrame with a datetimelike index using a single string to slice the rows, like `frame[string]`, is deprecated and will be removed in a future version. Use `frame.loc[string]` instead.\n",
      "  df[\"2020-10\"].Close.mean()\n"
     ]
    },
    {
     "data": {
      "text/plain": [
       "116.4131823636364"
      ]
     },
     "execution_count": 32,
     "metadata": {},
     "output_type": "execute_result"
    }
   ],
   "source": [
    "df[\"2020-10\"].Close.mean()"
   ]
  },
  {
   "cell_type": "code",
   "execution_count": 34,
   "id": "found-manor",
   "metadata": {},
   "outputs": [
    {
     "data": {
      "text/plain": [
       "Date\n",
       "2020-09-30    113.071999\n",
       "2020-10-31    116.413182\n",
       "2020-11-30    116.825999\n",
       "2020-12-31    127.290455\n",
       "2021-01-31    133.036842\n",
       "2021-02-28    131.531579\n",
       "2021-03-31    121.871304\n",
       "2021-04-30    131.812858\n",
       "2021-05-31    126.784000\n",
       "2021-06-30    129.958636\n",
       "2021-07-31    145.139524\n",
       "2021-08-31    148.177727\n",
       "2021-09-30    149.743750\n",
       "Freq: M, Name: Close, dtype: float64"
      ]
     },
     "execution_count": 34,
     "metadata": {},
     "output_type": "execute_result"
    }
   ],
   "source": [
    "df.Close.resample(\"M\").mean()"
   ]
  },
  {
   "cell_type": "code",
   "execution_count": 35,
   "id": "editorial-reservation",
   "metadata": {},
   "outputs": [
    {
     "data": {
      "text/plain": [
       "<AxesSubplot:xlabel='Date'>"
      ]
     },
     "execution_count": 35,
     "metadata": {},
     "output_type": "execute_result"
    },
    {
     "data": {
      "image/png": "[encoded data removed]",
      "text/plain": [
       "<Figure size 432x288 with 1 Axes>"
      ]
     },
     "metadata": {
      "needs_background": "light"
     },
     "output_type": "display_data"
    }
   ],
   "source": [
    "df.Close.resample(\"M\").mean().plot()"
   ]
  },
  {
   "cell_type": "code",
   "execution_count": 36,
   "id": "attempted-pharmaceutical",
   "metadata": {},
   "outputs": [
    {
     "data": {
      "text/plain": [
       "<AxesSubplot:xlabel='Date'>"
      ]
     },
     "execution_count": 36,
     "metadata": {},
     "output_type": "execute_result"
    },
    {
     "data": {
      "image/png": "[encoded data removed]",
      "text/plain": [
       "<Figure size 432x288 with 1 Axes>"
      ]
     },
     "metadata": {
      "needs_background": "light"
     },
     "output_type": "display_data"
    }
   ],
   "source": [
    "df.Close.resample(\"W\").mean().plot()"
   ]
  },
  {
   "cell_type": "code",
   "execution_count": 37,
   "id": "retired-wilson",
   "metadata": {},
   "outputs": [
    {
     "data": {
      "text/plain": [
       "<AxesSubplot:xlabel='Date'>"
      ]
     },
     "execution_count": 37,
     "metadata": {},
     "output_type": "execute_result"
    },
    {
     "data": {
      "image/png": "[encoded data removed]",
      "text/plain": [
       "<Figure size 432x288 with 1 Axes>"
      ]
     },
     "metadata": {
      "needs_background": "light"
     },
     "output_type": "display_data"
    }
   ],
   "source": [
    "df.Close.resample(\"Q\").mean().plot()"
   ]
  },
  {
   "cell_type": "markdown",
   "id": "lonely-syndication",
   "metadata": {},
   "source": [
    "# Handeling no dates values"
   ]
  },
  {
   "cell_type": "code",
   "execution_count": 39,
   "id": "mighty-opposition",
   "metadata": {},
   "outputs": [],
   "source": [
    "df_no_dates= df.reset_index(drop=True)"
   ]
  },
  {
   "cell_type": "code",
   "execution_count": 40,
   "id": "lesbian-zambia",
   "metadata": {},
   "outputs": [
    {
     "data": {
      "text/html": [
       "<div>\n",
       "<style scoped>\n",
       "    .dataframe tbody tr th:only-of-type {\n",
       "        vertical-align: middle;\n",
       "    }\n",
       "\n",
       "    .dataframe tbody tr th {\n",
       "        vertical-align: top;\n",
       "    }\n",
       "\n",
       "    .dataframe thead th {\n",
       "        text-align: right;\n",
       "    }\n",
       "</style>\n",
       "<table border=\"1\" class=\"dataframe\">\n",
       "  <thead>\n",
       "    <tr style=\"text-align: right;\">\n",
       "      <th></th>\n",
       "      <th>Open</th>\n",
       "      <th>High</th>\n",
       "      <th>Low</th>\n",
       "      <th>Close</th>\n",
       "      <th>Adj Close</th>\n",
       "      <th>Volume</th>\n",
       "    </tr>\n",
       "  </thead>\n",
       "  <tbody>\n",
       "    <tr>\n",
       "      <th>0</th>\n",
       "      <td>105.169998</td>\n",
       "      <td>110.250000</td>\n",
       "      <td>105.000000</td>\n",
       "      <td>108.220001</td>\n",
       "      <td>107.528404</td>\n",
       "      <td>167743300</td>\n",
       "    </tr>\n",
       "    <tr>\n",
       "      <th>1</th>\n",
       "      <td>108.430000</td>\n",
       "      <td>112.440002</td>\n",
       "      <td>107.669998</td>\n",
       "      <td>112.279999</td>\n",
       "      <td>111.562439</td>\n",
       "      <td>149981400</td>\n",
       "    </tr>\n",
       "    <tr>\n",
       "      <th>2</th>\n",
       "      <td>115.010002</td>\n",
       "      <td>115.320000</td>\n",
       "      <td>112.779999</td>\n",
       "      <td>114.959999</td>\n",
       "      <td>114.225311</td>\n",
       "      <td>137672400</td>\n",
       "    </tr>\n",
       "    <tr>\n",
       "      <th>3</th>\n",
       "      <td>114.550003</td>\n",
       "      <td>115.309998</td>\n",
       "      <td>113.570000</td>\n",
       "      <td>114.089996</td>\n",
       "      <td>113.360878</td>\n",
       "      <td>99382200</td>\n",
       "    </tr>\n",
       "    <tr>\n",
       "      <th>4</th>\n",
       "      <td>113.790001</td>\n",
       "      <td>117.260002</td>\n",
       "      <td>113.620003</td>\n",
       "      <td>115.809998</td>\n",
       "      <td>115.069893</td>\n",
       "      <td>142675200</td>\n",
       "    </tr>\n",
       "  </tbody>\n",
       "</table>\n",
       "</div>"
      ],
      "text/plain": [
       "         Open        High         Low       Close   Adj Close     Volume\n",
       "0  105.169998  110.250000  105.000000  108.220001  107.528404  167743300\n",
       "1  108.430000  112.440002  107.669998  112.279999  111.562439  149981400\n",
       "2  115.010002  115.320000  112.779999  114.959999  114.225311  137672400\n",
       "3  114.550003  115.309998  113.570000  114.089996  113.360878   99382200\n",
       "4  113.790001  117.260002  113.620003  115.809998  115.069893  142675200"
      ]
     },
     "execution_count": 40,
     "metadata": {},
     "output_type": "execute_result"
    }
   ],
   "source": [
    "df_no_dates.head()"
   ]
  },
  {
   "cell_type": "code",
   "execution_count": 269,
   "id": "affected-familiar",
   "metadata": {},
   "outputs": [],
   "source": [
    "rng= pd.date_range(start=\"2020-09-24\", end=\"2021-09-23\", freq=\"B\")"
   ]
  },
  {
   "cell_type": "code",
   "execution_count": 270,
   "id": "accessory-portal",
   "metadata": {},
   "outputs": [],
   "source": [
    "rng2=df.index"
   ]
  },
  {
   "cell_type": "code",
   "execution_count": 271,
   "id": "sharp-bacon",
   "metadata": {},
   "outputs": [
    {
     "data": {
      "text/plain": [
       "DatetimeIndex(['2020-09-24', '2020-09-25', '2020-09-28', '2020-09-29',\n",
       "               '2020-09-30', '2020-10-01', '2020-10-02', '2020-10-05',\n",
       "               '2020-10-06', '2020-10-07',\n",
       "               ...\n",
       "               '2021-09-10', '2021-09-13', '2021-09-14', '2021-09-15',\n",
       "               '2021-09-16', '2021-09-17', '2021-09-20', '2021-09-21',\n",
       "               '2021-09-22', '2021-09-23'],\n",
       "              dtype='datetime64[ns]', name='Date', length=252, freq=None)"
      ]
     },
     "execution_count": 271,
     "metadata": {},
     "output_type": "execute_result"
    }
   ],
   "source": [
    "rng2"
   ]
  },
  {
   "cell_type": "code",
   "execution_count": 268,
   "id": "configured-economics",
   "metadata": {},
   "outputs": [
    {
     "data": {
      "text/plain": [
       "DatetimeIndex(['2002-02-20 10:00:00', '2002-02-20 10:30:00',\n",
       "               '2002-02-20 11:00:00', '2002-02-20 11:30:00',\n",
       "               '2002-02-20 12:00:00', '2002-02-20 12:30:00',\n",
       "               '2002-02-20 13:00:00', '2002-02-20 13:30:00',\n",
       "               '2002-02-20 14:00:00', '2002-02-20 14:30:00'],\n",
       "              dtype='datetime64[ns]', freq='30T')"
      ]
     },
     "execution_count": 268,
     "metadata": {},
     "output_type": "execute_result"
    }
   ],
   "source": [
    "rng"
   ]
  },
  {
   "cell_type": "code",
   "execution_count": 105,
   "id": "representative-surrey",
   "metadata": {},
   "outputs": [],
   "source": [
    "rng=rng.drop(rng.difference(rng2))"
   ]
  },
  {
   "cell_type": "code",
   "execution_count": 117,
   "id": "imposed-secondary",
   "metadata": {
    "scrolled": true
   },
   "outputs": [],
   "source": [
    "df_no_dates.set_index(rng, inplace=True)"
   ]
  },
  {
   "cell_type": "code",
   "execution_count": 118,
   "id": "radical-actress",
   "metadata": {},
   "outputs": [
    {
     "data": {
      "text/html": [
       "<div>\n",
       "<style scoped>\n",
       "    .dataframe tbody tr th:only-of-type {\n",
       "        vertical-align: middle;\n",
       "    }\n",
       "\n",
       "    .dataframe tbody tr th {\n",
       "        vertical-align: top;\n",
       "    }\n",
       "\n",
       "    .dataframe thead th {\n",
       "        text-align: right;\n",
       "    }\n",
       "</style>\n",
       "<table border=\"1\" class=\"dataframe\">\n",
       "  <thead>\n",
       "    <tr style=\"text-align: right;\">\n",
       "      <th></th>\n",
       "      <th>Open</th>\n",
       "      <th>High</th>\n",
       "      <th>Low</th>\n",
       "      <th>Close</th>\n",
       "      <th>Adj Close</th>\n",
       "      <th>Volume</th>\n",
       "    </tr>\n",
       "  </thead>\n",
       "  <tbody>\n",
       "    <tr>\n",
       "      <th>2020-09-24</th>\n",
       "      <td>105.169998</td>\n",
       "      <td>110.250000</td>\n",
       "      <td>105.000000</td>\n",
       "      <td>108.220001</td>\n",
       "      <td>107.528404</td>\n",
       "      <td>167743300</td>\n",
       "    </tr>\n",
       "    <tr>\n",
       "      <th>2020-09-25</th>\n",
       "      <td>108.430000</td>\n",
       "      <td>112.440002</td>\n",
       "      <td>107.669998</td>\n",
       "      <td>112.279999</td>\n",
       "      <td>111.562439</td>\n",
       "      <td>149981400</td>\n",
       "    </tr>\n",
       "    <tr>\n",
       "      <th>2020-09-28</th>\n",
       "      <td>115.010002</td>\n",
       "      <td>115.320000</td>\n",
       "      <td>112.779999</td>\n",
       "      <td>114.959999</td>\n",
       "      <td>114.225311</td>\n",
       "      <td>137672400</td>\n",
       "    </tr>\n",
       "    <tr>\n",
       "      <th>2020-09-29</th>\n",
       "      <td>114.550003</td>\n",
       "      <td>115.309998</td>\n",
       "      <td>113.570000</td>\n",
       "      <td>114.089996</td>\n",
       "      <td>113.360878</td>\n",
       "      <td>99382200</td>\n",
       "    </tr>\n",
       "    <tr>\n",
       "      <th>2020-09-30</th>\n",
       "      <td>113.790001</td>\n",
       "      <td>117.260002</td>\n",
       "      <td>113.620003</td>\n",
       "      <td>115.809998</td>\n",
       "      <td>115.069893</td>\n",
       "      <td>142675200</td>\n",
       "    </tr>\n",
       "  </tbody>\n",
       "</table>\n",
       "</div>"
      ],
      "text/plain": [
       "                  Open        High         Low       Close   Adj Close  \\\n",
       "2020-09-24  105.169998  110.250000  105.000000  108.220001  107.528404   \n",
       "2020-09-25  108.430000  112.440002  107.669998  112.279999  111.562439   \n",
       "2020-09-28  115.010002  115.320000  112.779999  114.959999  114.225311   \n",
       "2020-09-29  114.550003  115.309998  113.570000  114.089996  113.360878   \n",
       "2020-09-30  113.790001  117.260002  113.620003  115.809998  115.069893   \n",
       "\n",
       "               Volume  \n",
       "2020-09-24  167743300  \n",
       "2020-09-25  149981400  \n",
       "2020-09-28  137672400  \n",
       "2020-09-29   99382200  \n",
       "2020-09-30  142675200  "
      ]
     },
     "execution_count": 118,
     "metadata": {},
     "output_type": "execute_result"
    }
   ],
   "source": [
    "df_no_dates.head()"
   ]
  },
  {
   "cell_type": "code",
   "execution_count": 119,
   "id": "south-footwear",
   "metadata": {
    "scrolled": true
   },
   "outputs": [
    {
     "data": {
      "text/html": [
       "<div>\n",
       "<style scoped>\n",
       "    .dataframe tbody tr th:only-of-type {\n",
       "        vertical-align: middle;\n",
       "    }\n",
       "\n",
       "    .dataframe tbody tr th {\n",
       "        vertical-align: top;\n",
       "    }\n",
       "\n",
       "    .dataframe thead th {\n",
       "        text-align: right;\n",
       "    }\n",
       "</style>\n",
       "<table border=\"1\" class=\"dataframe\">\n",
       "  <thead>\n",
       "    <tr style=\"text-align: right;\">\n",
       "      <th></th>\n",
       "      <th>Open</th>\n",
       "      <th>High</th>\n",
       "      <th>Low</th>\n",
       "      <th>Close</th>\n",
       "      <th>Adj Close</th>\n",
       "      <th>Volume</th>\n",
       "    </tr>\n",
       "    <tr>\n",
       "      <th>Date</th>\n",
       "      <th></th>\n",
       "      <th></th>\n",
       "      <th></th>\n",
       "      <th></th>\n",
       "      <th></th>\n",
       "      <th></th>\n",
       "    </tr>\n",
       "  </thead>\n",
       "  <tbody>\n",
       "    <tr>\n",
       "      <th>2020-09-24</th>\n",
       "      <td>105.169998</td>\n",
       "      <td>110.250000</td>\n",
       "      <td>105.000000</td>\n",
       "      <td>108.220001</td>\n",
       "      <td>107.528404</td>\n",
       "      <td>167743300</td>\n",
       "    </tr>\n",
       "    <tr>\n",
       "      <th>2020-09-25</th>\n",
       "      <td>108.430000</td>\n",
       "      <td>112.440002</td>\n",
       "      <td>107.669998</td>\n",
       "      <td>112.279999</td>\n",
       "      <td>111.562439</td>\n",
       "      <td>149981400</td>\n",
       "    </tr>\n",
       "    <tr>\n",
       "      <th>2020-09-28</th>\n",
       "      <td>115.010002</td>\n",
       "      <td>115.320000</td>\n",
       "      <td>112.779999</td>\n",
       "      <td>114.959999</td>\n",
       "      <td>114.225311</td>\n",
       "      <td>137672400</td>\n",
       "    </tr>\n",
       "    <tr>\n",
       "      <th>2020-09-29</th>\n",
       "      <td>114.550003</td>\n",
       "      <td>115.309998</td>\n",
       "      <td>113.570000</td>\n",
       "      <td>114.089996</td>\n",
       "      <td>113.360878</td>\n",
       "      <td>99382200</td>\n",
       "    </tr>\n",
       "    <tr>\n",
       "      <th>2020-09-30</th>\n",
       "      <td>113.790001</td>\n",
       "      <td>117.260002</td>\n",
       "      <td>113.620003</td>\n",
       "      <td>115.809998</td>\n",
       "      <td>115.069893</td>\n",
       "      <td>142675200</td>\n",
       "    </tr>\n",
       "    <tr>\n",
       "      <th>...</th>\n",
       "      <td>...</td>\n",
       "      <td>...</td>\n",
       "      <td>...</td>\n",
       "      <td>...</td>\n",
       "      <td>...</td>\n",
       "      <td>...</td>\n",
       "    </tr>\n",
       "    <tr>\n",
       "      <th>2021-09-17</th>\n",
       "      <td>148.820007</td>\n",
       "      <td>148.820007</td>\n",
       "      <td>145.759995</td>\n",
       "      <td>146.059998</td>\n",
       "      <td>146.059998</td>\n",
       "      <td>129728700</td>\n",
       "    </tr>\n",
       "    <tr>\n",
       "      <th>2021-09-20</th>\n",
       "      <td>143.800003</td>\n",
       "      <td>144.839996</td>\n",
       "      <td>141.270004</td>\n",
       "      <td>142.940002</td>\n",
       "      <td>142.940002</td>\n",
       "      <td>123478900</td>\n",
       "    </tr>\n",
       "    <tr>\n",
       "      <th>2021-09-21</th>\n",
       "      <td>143.929993</td>\n",
       "      <td>144.600006</td>\n",
       "      <td>142.779999</td>\n",
       "      <td>143.429993</td>\n",
       "      <td>143.429993</td>\n",
       "      <td>75834000</td>\n",
       "    </tr>\n",
       "    <tr>\n",
       "      <th>2021-09-22</th>\n",
       "      <td>144.449997</td>\n",
       "      <td>146.429993</td>\n",
       "      <td>143.699997</td>\n",
       "      <td>145.850006</td>\n",
       "      <td>145.850006</td>\n",
       "      <td>76404300</td>\n",
       "    </tr>\n",
       "    <tr>\n",
       "      <th>2021-09-23</th>\n",
       "      <td>146.649994</td>\n",
       "      <td>147.080002</td>\n",
       "      <td>145.639999</td>\n",
       "      <td>146.830002</td>\n",
       "      <td>146.830002</td>\n",
       "      <td>64755200</td>\n",
       "    </tr>\n",
       "  </tbody>\n",
       "</table>\n",
       "<p>252 rows × 6 columns</p>\n",
       "</div>"
      ],
      "text/plain": [
       "                  Open        High         Low       Close   Adj Close  \\\n",
       "Date                                                                     \n",
       "2020-09-24  105.169998  110.250000  105.000000  108.220001  107.528404   \n",
       "2020-09-25  108.430000  112.440002  107.669998  112.279999  111.562439   \n",
       "2020-09-28  115.010002  115.320000  112.779999  114.959999  114.225311   \n",
       "2020-09-29  114.550003  115.309998  113.570000  114.089996  113.360878   \n",
       "2020-09-30  113.790001  117.260002  113.620003  115.809998  115.069893   \n",
       "...                ...         ...         ...         ...         ...   \n",
       "2021-09-17  148.820007  148.820007  145.759995  146.059998  146.059998   \n",
       "2021-09-20  143.800003  144.839996  141.270004  142.940002  142.940002   \n",
       "2021-09-21  143.929993  144.600006  142.779999  143.429993  143.429993   \n",
       "2021-09-22  144.449997  146.429993  143.699997  145.850006  145.850006   \n",
       "2021-09-23  146.649994  147.080002  145.639999  146.830002  146.830002   \n",
       "\n",
       "               Volume  \n",
       "Date                   \n",
       "2020-09-24  167743300  \n",
       "2020-09-25  149981400  \n",
       "2020-09-28  137672400  \n",
       "2020-09-29   99382200  \n",
       "2020-09-30  142675200  \n",
       "...               ...  \n",
       "2021-09-17  129728700  \n",
       "2021-09-20  123478900  \n",
       "2021-09-21   75834000  \n",
       "2021-09-22   76404300  \n",
       "2021-09-23   64755200  \n",
       "\n",
       "[252 rows x 6 columns]"
      ]
     },
     "execution_count": 119,
     "metadata": {},
     "output_type": "execute_result"
    }
   ],
   "source": [
    "df_no_dates.rename_axis(\"Date\")"
   ]
  },
  {
   "cell_type": "code",
   "execution_count": 124,
   "id": "viral-chinese",
   "metadata": {
    "scrolled": true
   },
   "outputs": [
    {
     "data": {
      "text/html": [
       "<div>\n",
       "<style scoped>\n",
       "    .dataframe tbody tr th:only-of-type {\n",
       "        vertical-align: middle;\n",
       "    }\n",
       "\n",
       "    .dataframe tbody tr th {\n",
       "        vertical-align: top;\n",
       "    }\n",
       "\n",
       "    .dataframe thead th {\n",
       "        text-align: right;\n",
       "    }\n",
       "</style>\n",
       "<table border=\"1\" class=\"dataframe\">\n",
       "  <thead>\n",
       "    <tr style=\"text-align: right;\">\n",
       "      <th></th>\n",
       "      <th>Open</th>\n",
       "      <th>High</th>\n",
       "      <th>Low</th>\n",
       "      <th>Close</th>\n",
       "      <th>Adj Close</th>\n",
       "      <th>Volume</th>\n",
       "    </tr>\n",
       "  </thead>\n",
       "  <tbody>\n",
       "    <tr>\n",
       "      <th>2020-09-24</th>\n",
       "      <td>105.169998</td>\n",
       "      <td>110.250000</td>\n",
       "      <td>105.000000</td>\n",
       "      <td>108.220001</td>\n",
       "      <td>107.528404</td>\n",
       "      <td>167743300</td>\n",
       "    </tr>\n",
       "    <tr>\n",
       "      <th>2020-09-25</th>\n",
       "      <td>108.430000</td>\n",
       "      <td>112.440002</td>\n",
       "      <td>107.669998</td>\n",
       "      <td>112.279999</td>\n",
       "      <td>111.562439</td>\n",
       "      <td>149981400</td>\n",
       "    </tr>\n",
       "    <tr>\n",
       "      <th>2020-09-26</th>\n",
       "      <td>108.430000</td>\n",
       "      <td>112.440002</td>\n",
       "      <td>107.669998</td>\n",
       "      <td>112.279999</td>\n",
       "      <td>111.562439</td>\n",
       "      <td>149981400</td>\n",
       "    </tr>\n",
       "    <tr>\n",
       "      <th>2020-09-27</th>\n",
       "      <td>108.430000</td>\n",
       "      <td>112.440002</td>\n",
       "      <td>107.669998</td>\n",
       "      <td>112.279999</td>\n",
       "      <td>111.562439</td>\n",
       "      <td>149981400</td>\n",
       "    </tr>\n",
       "    <tr>\n",
       "      <th>2020-09-28</th>\n",
       "      <td>115.010002</td>\n",
       "      <td>115.320000</td>\n",
       "      <td>112.779999</td>\n",
       "      <td>114.959999</td>\n",
       "      <td>114.225311</td>\n",
       "      <td>137672400</td>\n",
       "    </tr>\n",
       "    <tr>\n",
       "      <th>...</th>\n",
       "      <td>...</td>\n",
       "      <td>...</td>\n",
       "      <td>...</td>\n",
       "      <td>...</td>\n",
       "      <td>...</td>\n",
       "      <td>...</td>\n",
       "    </tr>\n",
       "    <tr>\n",
       "      <th>2021-09-19</th>\n",
       "      <td>148.820007</td>\n",
       "      <td>148.820007</td>\n",
       "      <td>145.759995</td>\n",
       "      <td>146.059998</td>\n",
       "      <td>146.059998</td>\n",
       "      <td>129728700</td>\n",
       "    </tr>\n",
       "    <tr>\n",
       "      <th>2021-09-20</th>\n",
       "      <td>143.800003</td>\n",
       "      <td>144.839996</td>\n",
       "      <td>141.270004</td>\n",
       "      <td>142.940002</td>\n",
       "      <td>142.940002</td>\n",
       "      <td>123478900</td>\n",
       "    </tr>\n",
       "    <tr>\n",
       "      <th>2021-09-21</th>\n",
       "      <td>143.929993</td>\n",
       "      <td>144.600006</td>\n",
       "      <td>142.779999</td>\n",
       "      <td>143.429993</td>\n",
       "      <td>143.429993</td>\n",
       "      <td>75834000</td>\n",
       "    </tr>\n",
       "    <tr>\n",
       "      <th>2021-09-22</th>\n",
       "      <td>144.449997</td>\n",
       "      <td>146.429993</td>\n",
       "      <td>143.699997</td>\n",
       "      <td>145.850006</td>\n",
       "      <td>145.850006</td>\n",
       "      <td>76404300</td>\n",
       "    </tr>\n",
       "    <tr>\n",
       "      <th>2021-09-23</th>\n",
       "      <td>146.649994</td>\n",
       "      <td>147.080002</td>\n",
       "      <td>145.639999</td>\n",
       "      <td>146.830002</td>\n",
       "      <td>146.830002</td>\n",
       "      <td>64755200</td>\n",
       "    </tr>\n",
       "  </tbody>\n",
       "</table>\n",
       "<p>365 rows × 6 columns</p>\n",
       "</div>"
      ],
      "text/plain": [
       "                  Open        High         Low       Close   Adj Close  \\\n",
       "2020-09-24  105.169998  110.250000  105.000000  108.220001  107.528404   \n",
       "2020-09-25  108.430000  112.440002  107.669998  112.279999  111.562439   \n",
       "2020-09-26  108.430000  112.440002  107.669998  112.279999  111.562439   \n",
       "2020-09-27  108.430000  112.440002  107.669998  112.279999  111.562439   \n",
       "2020-09-28  115.010002  115.320000  112.779999  114.959999  114.225311   \n",
       "...                ...         ...         ...         ...         ...   \n",
       "2021-09-19  148.820007  148.820007  145.759995  146.059998  146.059998   \n",
       "2021-09-20  143.800003  144.839996  141.270004  142.940002  142.940002   \n",
       "2021-09-21  143.929993  144.600006  142.779999  143.429993  143.429993   \n",
       "2021-09-22  144.449997  146.429993  143.699997  145.850006  145.850006   \n",
       "2021-09-23  146.649994  147.080002  145.639999  146.830002  146.830002   \n",
       "\n",
       "               Volume  \n",
       "2020-09-24  167743300  \n",
       "2020-09-25  149981400  \n",
       "2020-09-26  149981400  \n",
       "2020-09-27  149981400  \n",
       "2020-09-28  137672400  \n",
       "...               ...  \n",
       "2021-09-19  129728700  \n",
       "2021-09-20  123478900  \n",
       "2021-09-21   75834000  \n",
       "2021-09-22   76404300  \n",
       "2021-09-23   64755200  \n",
       "\n",
       "[365 rows x 6 columns]"
      ]
     },
     "execution_count": 124,
     "metadata": {},
     "output_type": "execute_result"
    }
   ],
   "source": [
    "df_no_dates.asfreq(\"D\", method=\"pad\")"
   ]
  },
  {
   "cell_type": "code",
   "execution_count": 125,
   "id": "angry-wildlife",
   "metadata": {},
   "outputs": [],
   "source": [
    "rng_h= pd.date_range(start=\"20-2-02\", periods=22 , freq=\"H\")"
   ]
  },
  {
   "cell_type": "code",
   "execution_count": 126,
   "id": "centered-wings",
   "metadata": {},
   "outputs": [
    {
     "data": {
      "text/plain": [
       "DatetimeIndex(['2002-02-20 00:00:00', '2002-02-20 01:00:00',\n",
       "               '2002-02-20 02:00:00', '2002-02-20 03:00:00',\n",
       "               '2002-02-20 04:00:00', '2002-02-20 05:00:00',\n",
       "               '2002-02-20 06:00:00', '2002-02-20 07:00:00',\n",
       "               '2002-02-20 08:00:00', '2002-02-20 09:00:00',\n",
       "               '2002-02-20 10:00:00', '2002-02-20 11:00:00',\n",
       "               '2002-02-20 12:00:00', '2002-02-20 13:00:00',\n",
       "               '2002-02-20 14:00:00', '2002-02-20 15:00:00',\n",
       "               '2002-02-20 16:00:00', '2002-02-20 17:00:00',\n",
       "               '2002-02-20 18:00:00', '2002-02-20 19:00:00',\n",
       "               '2002-02-20 20:00:00', '2002-02-20 21:00:00'],\n",
       "              dtype='datetime64[ns]', freq='H')"
      ]
     },
     "execution_count": 126,
     "metadata": {},
     "output_type": "execute_result"
    }
   ],
   "source": [
    "rng_h"
   ]
  },
  {
   "cell_type": "code",
   "execution_count": 127,
   "id": "incomplete-accuracy",
   "metadata": {},
   "outputs": [],
   "source": [
    "import numpy as np"
   ]
  },
  {
   "cell_type": "code",
   "execution_count": 128,
   "id": "departmental-sodium",
   "metadata": {},
   "outputs": [
    {
     "data": {
      "text/plain": [
       "array([3, 9, 4, 7, 7, 6, 2, 2, 9, 8, 3, 2, 7, 5, 4, 7, 7, 3, 7, 5, 3, 8])"
      ]
     },
     "execution_count": 128,
     "metadata": {},
     "output_type": "execute_result"
    }
   ],
   "source": [
    "np.random.randint(1,10,len(rng_h))"
   ]
  },
  {
   "cell_type": "code",
   "execution_count": 129,
   "id": "dominant-zimbabwe",
   "metadata": {},
   "outputs": [],
   "source": [
    "ts=pd.Series(np.random.randint(1,10,len(rng_h)) ,index=rng_h)"
   ]
  },
  {
   "cell_type": "code",
   "execution_count": 130,
   "id": "informal-short",
   "metadata": {},
   "outputs": [
    {
     "data": {
      "text/plain": [
       "2002-02-20 00:00:00    5\n",
       "2002-02-20 01:00:00    7\n",
       "2002-02-20 02:00:00    5\n",
       "2002-02-20 03:00:00    3\n",
       "2002-02-20 04:00:00    1\n",
       "2002-02-20 05:00:00    4\n",
       "2002-02-20 06:00:00    3\n",
       "2002-02-20 07:00:00    8\n",
       "2002-02-20 08:00:00    2\n",
       "2002-02-20 09:00:00    2\n",
       "2002-02-20 10:00:00    4\n",
       "2002-02-20 11:00:00    4\n",
       "2002-02-20 12:00:00    8\n",
       "2002-02-20 13:00:00    8\n",
       "2002-02-20 14:00:00    8\n",
       "2002-02-20 15:00:00    6\n",
       "2002-02-20 16:00:00    7\n",
       "2002-02-20 17:00:00    3\n",
       "2002-02-20 18:00:00    2\n",
       "2002-02-20 19:00:00    7\n",
       "2002-02-20 20:00:00    2\n",
       "2002-02-20 21:00:00    3\n",
       "Freq: H, dtype: int32"
      ]
     },
     "execution_count": 130,
     "metadata": {},
     "output_type": "execute_result"
    }
   ],
   "source": [
    "ts"
   ]
  },
  {
   "cell_type": "code",
   "execution_count": 131,
   "id": "instructional-chance",
   "metadata": {},
   "outputs": [],
   "source": [
    "from pandas.tseries.holiday import USFederalHolidayCalendar\n",
    "from pandas.tseries.offsets import CustomBusinessDay"
   ]
  },
  {
   "cell_type": "code",
   "execution_count": 134,
   "id": "promotional-azerbaijan",
   "metadata": {},
   "outputs": [],
   "source": [
    "cbd= CustomBusinessDay(calendar=USFederalHolidayCalendar())"
   ]
  },
  {
   "cell_type": "code",
   "execution_count": 135,
   "id": "fixed-burton",
   "metadata": {},
   "outputs": [
    {
     "data": {
      "text/plain": [
       "DatetimeIndex(['2020-01-02', '2020-01-03', '2020-01-06', '2020-01-07',\n",
       "               '2020-01-08', '2020-01-09', '2020-01-10', '2020-01-13',\n",
       "               '2020-01-14', '2020-01-15', '2020-01-16', '2020-01-17',\n",
       "               '2020-01-21', '2020-01-22', '2020-01-23', '2020-01-24',\n",
       "               '2020-01-27', '2020-01-28', '2020-01-29', '2020-01-30'],\n",
       "              dtype='datetime64[ns]', freq='C')"
      ]
     },
     "execution_count": 135,
     "metadata": {},
     "output_type": "execute_result"
    }
   ],
   "source": [
    "pd.date_range(start=\"01-01-2020\", periods=20, freq=cbd)"
   ]
  },
  {
   "cell_type": "code",
   "execution_count": 157,
   "id": "verified-behavior",
   "metadata": {},
   "outputs": [],
   "source": [
    "dates=[\"1632431481\"]"
   ]
  },
  {
   "cell_type": "code",
   "execution_count": 158,
   "id": "described-johnston",
   "metadata": {},
   "outputs": [
    {
     "data": {
      "text/plain": [
       "DatetimeIndex(['2021-09-23 21:11:21'], dtype='datetime64[ns]', freq=None)"
      ]
     },
     "execution_count": 158,
     "metadata": {},
     "output_type": "execute_result"
    }
   ],
   "source": [
    "pd.to_datetime(dates, errors=\"coerce\", unit='s' )"
   ]
  },
  {
   "cell_type": "code",
   "execution_count": 169,
   "id": "express-administrator",
   "metadata": {},
   "outputs": [],
   "source": [
    "m= pd.Period(\"2020-1\", freq=\"M\")"
   ]
  },
  {
   "cell_type": "code",
   "execution_count": 170,
   "id": "peripheral-hundred",
   "metadata": {
    "scrolled": true
   },
   "outputs": [
    {
     "data": {
      "text/plain": [
       "Period('2020-01', 'M')"
      ]
     },
     "execution_count": 170,
     "metadata": {},
     "output_type": "execute_result"
    }
   ],
   "source": [
    "m"
   ]
  },
  {
   "cell_type": "code",
   "execution_count": 171,
   "id": "entitled-criticism",
   "metadata": {},
   "outputs": [
    {
     "data": {
      "text/plain": [
       "Period('2020-02', 'M')"
      ]
     },
     "execution_count": 171,
     "metadata": {},
     "output_type": "execute_result"
    }
   ],
   "source": [
    "m+1"
   ]
  },
  {
   "cell_type": "code",
   "execution_count": 172,
   "id": "developing-young",
   "metadata": {},
   "outputs": [],
   "source": [
    "t=pd.Period(\"2020Q1\")"
   ]
  },
  {
   "cell_type": "code",
   "execution_count": 173,
   "id": "greater-pendant",
   "metadata": {},
   "outputs": [
    {
     "data": {
      "text/plain": [
       "Period('2020Q1', 'Q-DEC')"
      ]
     },
     "execution_count": 173,
     "metadata": {},
     "output_type": "execute_result"
    }
   ],
   "source": [
    "t"
   ]
  },
  {
   "cell_type": "code",
   "execution_count": 174,
   "id": "european-drinking",
   "metadata": {},
   "outputs": [],
   "source": [
    "t1=pd.Period(\"2020-02-02 21:00\", freq=\"H\")"
   ]
  },
  {
   "cell_type": "code",
   "execution_count": 175,
   "id": "photographic-development",
   "metadata": {},
   "outputs": [
    {
     "data": {
      "text/plain": [
       "Period('2020-02-02 21:00', 'H')"
      ]
     },
     "execution_count": 175,
     "metadata": {},
     "output_type": "execute_result"
    }
   ],
   "source": [
    "t1"
   ]
  },
  {
   "cell_type": "code",
   "execution_count": 176,
   "id": "overhead-packet",
   "metadata": {},
   "outputs": [
    {
     "data": {
      "text/plain": [
       "Timestamp('2020-02-02 21:00:00')"
      ]
     },
     "execution_count": 176,
     "metadata": {},
     "output_type": "execute_result"
    }
   ],
   "source": [
    "t1.start_time"
   ]
  },
  {
   "cell_type": "code",
   "execution_count": 177,
   "id": "tender-marijuana",
   "metadata": {
    "scrolled": true
   },
   "outputs": [
    {
     "data": {
      "text/plain": [
       "Timestamp('2020-02-02 21:59:59.999999999')"
      ]
     },
     "execution_count": 177,
     "metadata": {},
     "output_type": "execute_result"
    }
   ],
   "source": [
    "t1.end_time"
   ]
  },
  {
   "cell_type": "code",
   "execution_count": 179,
   "id": "interested-sugar",
   "metadata": {},
   "outputs": [
    {
     "data": {
      "text/plain": [
       "Period('2020-02-02 23:00', 'H')"
      ]
     },
     "execution_count": 179,
     "metadata": {},
     "output_type": "execute_result"
    }
   ],
   "source": [
    "t1+pd.offsets.Hour(2)"
   ]
  },
  {
   "cell_type": "code",
   "execution_count": 183,
   "id": "promising-worker",
   "metadata": {},
   "outputs": [],
   "source": [
    "q2=pd.Period(\"2020-06\", freq= \"Q-jan\")"
   ]
  },
  {
   "cell_type": "code",
   "execution_count": 184,
   "id": "subsequent-rolling",
   "metadata": {},
   "outputs": [
    {
     "data": {
      "text/plain": [
       "Period('2021Q2', 'Q-JAN')"
      ]
     },
     "execution_count": 184,
     "metadata": {},
     "output_type": "execute_result"
    }
   ],
   "source": [
    "q2"
   ]
  },
  {
   "cell_type": "code",
   "execution_count": 185,
   "id": "false-hunger",
   "metadata": {},
   "outputs": [],
   "source": [
    "idx= pd.period_range(\"2001\",\"2020\", freq=\"Q-MAY\")"
   ]
  },
  {
   "cell_type": "code",
   "execution_count": 186,
   "id": "competent-plate",
   "metadata": {},
   "outputs": [
    {
     "data": {
      "text/plain": [
       "PeriodIndex(['2001Q3', '2001Q4', '2002Q1', '2002Q2', '2002Q3', '2002Q4',\n",
       "             '2003Q1', '2003Q2', '2003Q3', '2003Q4', '2004Q1', '2004Q2',\n",
       "             '2004Q3', '2004Q4', '2005Q1', '2005Q2', '2005Q3', '2005Q4',\n",
       "             '2006Q1', '2006Q2', '2006Q3', '2006Q4', '2007Q1', '2007Q2',\n",
       "             '2007Q3', '2007Q4', '2008Q1', '2008Q2', '2008Q3', '2008Q4',\n",
       "             '2009Q1', '2009Q2', '2009Q3', '2009Q4', '2010Q1', '2010Q2',\n",
       "             '2010Q3', '2010Q4', '2011Q1', '2011Q2', '2011Q3', '2011Q4',\n",
       "             '2012Q1', '2012Q2', '2012Q3', '2012Q4', '2013Q1', '2013Q2',\n",
       "             '2013Q3', '2013Q4', '2014Q1', '2014Q2', '2014Q3', '2014Q4',\n",
       "             '2015Q1', '2015Q2', '2015Q3', '2015Q4', '2016Q1', '2016Q2',\n",
       "             '2016Q3', '2016Q4', '2017Q1', '2017Q2', '2017Q3', '2017Q4',\n",
       "             '2018Q1', '2018Q2', '2018Q3', '2018Q4', '2019Q1', '2019Q2',\n",
       "             '2019Q3', '2019Q4', '2020Q1', '2020Q2', '2020Q3'],\n",
       "            dtype='period[Q-MAY]', freq='Q-MAY')"
      ]
     },
     "execution_count": 186,
     "metadata": {},
     "output_type": "execute_result"
    }
   ],
   "source": [
    "idx"
   ]
  },
  {
   "cell_type": "code",
   "execution_count": 195,
   "id": "transparent-dating",
   "metadata": {},
   "outputs": [],
   "source": [
    "import numpy as np\n",
    "dummy=pd.Series(np.random.randn(len(idx)), index=idx)"
   ]
  },
  {
   "cell_type": "code",
   "execution_count": 201,
   "id": "funded-night",
   "metadata": {},
   "outputs": [
    {
     "data": {
      "text/plain": [
       "<AxesSubplot:>"
      ]
     },
     "execution_count": 201,
     "metadata": {},
     "output_type": "execute_result"
    },
    {
     "data": {
      "image/png": "[encoded data removed]",
      "text/plain": [
       "<Figure size 432x288 with 1 Axes>"
      ]
     },
     "metadata": {
      "needs_background": "light"
     },
     "output_type": "display_data"
    }
   ],
   "source": [
    "dummy.plot()"
   ]
  },
  {
   "cell_type": "code",
   "execution_count": 202,
   "id": "serious-encounter",
   "metadata": {},
   "outputs": [
    {
     "data": {
      "text/plain": [
       "2001Q3    0.276255\n",
       "2001Q4    0.159711\n",
       "2002Q1    0.022413\n",
       "2002Q2    0.760411\n",
       "2002Q3   -0.478503\n",
       "            ...   \n",
       "2019Q3    0.928320\n",
       "2019Q4    1.383020\n",
       "2020Q1    0.164718\n",
       "2020Q2    1.291606\n",
       "2020Q3   -0.232523\n",
       "Freq: Q-MAY, Length: 77, dtype: float64"
      ]
     },
     "execution_count": 202,
     "metadata": {},
     "output_type": "execute_result"
    }
   ],
   "source": [
    "dummy"
   ]
  },
  {
   "cell_type": "code",
   "execution_count": 205,
   "id": "handmade-investigation",
   "metadata": {},
   "outputs": [],
   "source": [
    "dummy=dummy.to_timestamp()"
   ]
  },
  {
   "cell_type": "code",
   "execution_count": 209,
   "id": "divided-butterfly",
   "metadata": {},
   "outputs": [
    {
     "data": {
      "text/plain": [
       "DatetimeIndex(['2000-12-01', '2001-03-01', '2001-06-01', '2001-09-01',\n",
       "               '2001-12-01', '2002-03-01', '2002-06-01', '2002-09-01',\n",
       "               '2002-12-01', '2003-03-01', '2003-06-01', '2003-09-01',\n",
       "               '2003-12-01', '2004-03-01', '2004-06-01', '2004-09-01',\n",
       "               '2004-12-01', '2005-03-01', '2005-06-01', '2005-09-01',\n",
       "               '2005-12-01', '2006-03-01', '2006-06-01', '2006-09-01',\n",
       "               '2006-12-01', '2007-03-01', '2007-06-01', '2007-09-01',\n",
       "               '2007-12-01', '2008-03-01', '2008-06-01', '2008-09-01',\n",
       "               '2008-12-01', '2009-03-01', '2009-06-01', '2009-09-01',\n",
       "               '2009-12-01', '2010-03-01', '2010-06-01', '2010-09-01',\n",
       "               '2010-12-01', '2011-03-01', '2011-06-01', '2011-09-01',\n",
       "               '2011-12-01', '2012-03-01', '2012-06-01', '2012-09-01',\n",
       "               '2012-12-01', '2013-03-01', '2013-06-01', '2013-09-01',\n",
       "               '2013-12-01', '2014-03-01', '2014-06-01', '2014-09-01',\n",
       "               '2014-12-01', '2015-03-01', '2015-06-01', '2015-09-01',\n",
       "               '2015-12-01', '2016-03-01', '2016-06-01', '2016-09-01',\n",
       "               '2016-12-01', '2017-03-01', '2017-06-01', '2017-09-01',\n",
       "               '2017-12-01', '2018-03-01', '2018-06-01', '2018-09-01',\n",
       "               '2018-12-01', '2019-03-01', '2019-06-01', '2019-09-01',\n",
       "               '2019-12-01'],\n",
       "              dtype='datetime64[ns]', freq='QS-DEC')"
      ]
     },
     "execution_count": 209,
     "metadata": {},
     "output_type": "execute_result"
    }
   ],
   "source": [
    "dummy.index"
   ]
  },
  {
   "cell_type": "code",
   "execution_count": 207,
   "id": "essential-spending",
   "metadata": {},
   "outputs": [
    {
     "data": {
      "text/plain": [
       "2000Q4    0.276255\n",
       "2001Q1    0.159711\n",
       "2001Q2    0.022413\n",
       "2001Q3    0.760411\n",
       "2001Q4   -0.478503\n",
       "            ...   \n",
       "2018Q4    0.928320\n",
       "2019Q1    1.383020\n",
       "2019Q2    0.164718\n",
       "2019Q3    1.291606\n",
       "2019Q4   -0.232523\n",
       "Freq: Q-DEC, Length: 77, dtype: float64"
      ]
     },
     "execution_count": 207,
     "metadata": {},
     "output_type": "execute_result"
    }
   ],
   "source": [
    "dummy.to_period()"
   ]
  },
  {
   "cell_type": "code",
   "execution_count": 214,
   "id": "institutional-reservation",
   "metadata": {},
   "outputs": [],
   "source": [
    "from pytz import all_timezones\n",
    "#adding time zone\n",
    "dummy=dummy.tz_localize(tz=\"Europe/berlin\")"
   ]
  },
  {
   "cell_type": "code",
   "execution_count": 218,
   "id": "enclosed-masters",
   "metadata": {},
   "outputs": [
    {
     "data": {
      "text/plain": [
       "Timestamp('2000-12-01 00:00:00+0100', tz='Europe/Berlin')"
      ]
     },
     "execution_count": 218,
     "metadata": {},
     "output_type": "execute_result"
    }
   ],
   "source": [
    "dummy.index[0]"
   ]
  },
  {
   "cell_type": "code",
   "execution_count": 221,
   "id": "optional-directive",
   "metadata": {},
   "outputs": [],
   "source": [
    "dummy=dummy.tz_convert(tz=\"US/Eastern\")"
   ]
  },
  {
   "cell_type": "code",
   "execution_count": 222,
   "id": "central-feature",
   "metadata": {},
   "outputs": [
    {
     "data": {
      "text/plain": [
       "Timestamp('2000-11-30 18:00:00-0500', tz='US/Eastern')"
      ]
     },
     "execution_count": 222,
     "metadata": {},
     "output_type": "execute_result"
    }
   ],
   "source": [
    "dummy.index[0]"
   ]
  },
  {
   "cell_type": "code",
   "execution_count": 227,
   "id": "excellent-promotion",
   "metadata": {},
   "outputs": [],
   "source": [
    "dates= pd.date_range(start=\"2020-10-01\", periods=20 ,tz=\"Europe/Berlin\")"
   ]
  },
  {
   "cell_type": "code",
   "execution_count": 228,
   "id": "royal-attitude",
   "metadata": {},
   "outputs": [
    {
     "data": {
      "text/plain": [
       "DatetimeIndex(['2020-10-01 00:00:00+02:00', '2020-10-02 00:00:00+02:00',\n",
       "               '2020-10-03 00:00:00+02:00', '2020-10-04 00:00:00+02:00',\n",
       "               '2020-10-05 00:00:00+02:00', '2020-10-06 00:00:00+02:00',\n",
       "               '2020-10-07 00:00:00+02:00', '2020-10-08 00:00:00+02:00',\n",
       "               '2020-10-09 00:00:00+02:00', '2020-10-10 00:00:00+02:00',\n",
       "               '2020-10-11 00:00:00+02:00', '2020-10-12 00:00:00+02:00',\n",
       "               '2020-10-13 00:00:00+02:00', '2020-10-14 00:00:00+02:00',\n",
       "               '2020-10-15 00:00:00+02:00', '2020-10-16 00:00:00+02:00',\n",
       "               '2020-10-17 00:00:00+02:00', '2020-10-18 00:00:00+02:00',\n",
       "               '2020-10-19 00:00:00+02:00', '2020-10-20 00:00:00+02:00'],\n",
       "              dtype='datetime64[ns, Europe/Berlin]', freq='D')"
      ]
     },
     "execution_count": 228,
     "metadata": {},
     "output_type": "execute_result"
    }
   ],
   "source": [
    "dates"
   ]
  },
  {
   "cell_type": "code",
   "execution_count": 229,
   "id": "written-wright",
   "metadata": {},
   "outputs": [],
   "source": [
    "rng= pd.date_range(start=\"20-02-02 10:00:00\", periods=10, freq=\"30min\")"
   ]
  },
  {
   "cell_type": "code",
   "execution_count": 230,
   "id": "after-authentication",
   "metadata": {},
   "outputs": [
    {
     "data": {
      "text/plain": [
       "DatetimeIndex(['2002-02-20 10:00:00', '2002-02-20 10:30:00',\n",
       "               '2002-02-20 11:00:00', '2002-02-20 11:30:00',\n",
       "               '2002-02-20 12:00:00', '2002-02-20 12:30:00',\n",
       "               '2002-02-20 13:00:00', '2002-02-20 13:30:00',\n",
       "               '2002-02-20 14:00:00', '2002-02-20 14:30:00'],\n",
       "              dtype='datetime64[ns]', freq='30T')"
      ]
     },
     "execution_count": 230,
     "metadata": {},
     "output_type": "execute_result"
    }
   ],
   "source": [
    "rng"
   ]
  },
  {
   "cell_type": "code",
   "execution_count": 239,
   "id": "unknown-spotlight",
   "metadata": {},
   "outputs": [],
   "source": [
    "s= pd.Series(range(10), index=rng)"
   ]
  },
  {
   "cell_type": "code",
   "execution_count": 240,
   "id": "assured-pressing",
   "metadata": {
    "scrolled": true
   },
   "outputs": [
    {
     "data": {
      "text/plain": [
       "2002-02-20 10:00:00    0\n",
       "2002-02-20 10:30:00    1\n",
       "2002-02-20 11:00:00    2\n",
       "2002-02-20 11:30:00    3\n",
       "2002-02-20 12:00:00    4\n",
       "2002-02-20 12:30:00    5\n",
       "2002-02-20 13:00:00    6\n",
       "2002-02-20 13:30:00    7\n",
       "2002-02-20 14:00:00    8\n",
       "2002-02-20 14:30:00    9\n",
       "Freq: 30T, dtype: int64"
      ]
     },
     "execution_count": 240,
     "metadata": {},
     "output_type": "execute_result"
    }
   ],
   "source": [
    "s"
   ]
  },
  {
   "cell_type": "code",
   "execution_count": 241,
   "id": "humanitarian-vintage",
   "metadata": {},
   "outputs": [
    {
     "data": {
      "text/plain": [
       "DatetimeIndex(['2002-02-20 10:00:00', '2002-02-20 10:30:00',\n",
       "               '2002-02-20 11:00:00', '2002-02-20 11:30:00',\n",
       "               '2002-02-20 12:00:00', '2002-02-20 12:30:00',\n",
       "               '2002-02-20 13:00:00', '2002-02-20 13:30:00',\n",
       "               '2002-02-20 14:00:00', '2002-02-20 14:30:00'],\n",
       "              dtype='datetime64[ns]', freq='30T')"
      ]
     },
     "execution_count": 241,
     "metadata": {},
     "output_type": "execute_result"
    }
   ],
   "source": [
    "s.index"
   ]
  },
  {
   "cell_type": "code",
   "execution_count": 242,
   "id": "transparent-thirty",
   "metadata": {},
   "outputs": [],
   "source": [
    "q=s.tz_localize(tz=\"Europe/Berlin\")"
   ]
  },
  {
   "cell_type": "code",
   "execution_count": 243,
   "id": "affected-opposition",
   "metadata": {},
   "outputs": [
    {
     "data": {
      "text/plain": [
       "DatetimeIndex(['2002-02-20 10:00:00+01:00', '2002-02-20 10:30:00+01:00',\n",
       "               '2002-02-20 11:00:00+01:00', '2002-02-20 11:30:00+01:00',\n",
       "               '2002-02-20 12:00:00+01:00', '2002-02-20 12:30:00+01:00',\n",
       "               '2002-02-20 13:00:00+01:00', '2002-02-20 13:30:00+01:00',\n",
       "               '2002-02-20 14:00:00+01:00', '2002-02-20 14:30:00+01:00'],\n",
       "              dtype='datetime64[ns, Europe/Berlin]', freq=None)"
      ]
     },
     "execution_count": 243,
     "metadata": {},
     "output_type": "execute_result"
    }
   ],
   "source": [
    "q.index"
   ]
  },
  {
   "cell_type": "code",
   "execution_count": 246,
   "id": "governing-pharmacy",
   "metadata": {},
   "outputs": [],
   "source": [
    "w=s.tz_localize(tz=\"US/Eastern\")"
   ]
  },
  {
   "cell_type": "code",
   "execution_count": 247,
   "id": "annoying-jaguar",
   "metadata": {},
   "outputs": [
    {
     "data": {
      "text/plain": [
       "DatetimeIndex(['2002-02-20 10:00:00-05:00', '2002-02-20 10:30:00-05:00',\n",
       "               '2002-02-20 11:00:00-05:00', '2002-02-20 11:30:00-05:00',\n",
       "               '2002-02-20 12:00:00-05:00', '2002-02-20 12:30:00-05:00',\n",
       "               '2002-02-20 13:00:00-05:00', '2002-02-20 13:30:00-05:00',\n",
       "               '2002-02-20 14:00:00-05:00', '2002-02-20 14:30:00-05:00'],\n",
       "              dtype='datetime64[ns, US/Eastern]', freq=None)"
      ]
     },
     "execution_count": 247,
     "metadata": {},
     "output_type": "execute_result"
    }
   ],
   "source": [
    "w.index"
   ]
  },
  {
   "cell_type": "code",
   "execution_count": 251,
   "id": "legal-combine",
   "metadata": {
    "scrolled": true
   },
   "outputs": [
    {
     "data": {
      "text/plain": [
       "2002-02-20 09:00:00+00:00   NaN\n",
       "2002-02-20 09:30:00+00:00   NaN\n",
       "2002-02-20 10:00:00+00:00   NaN\n",
       "2002-02-20 10:30:00+00:00   NaN\n",
       "2002-02-20 11:00:00+00:00   NaN\n",
       "2002-02-20 11:30:00+00:00   NaN\n",
       "2002-02-20 12:00:00+00:00   NaN\n",
       "2002-02-20 12:30:00+00:00   NaN\n",
       "2002-02-20 13:00:00+00:00   NaN\n",
       "2002-02-20 13:30:00+00:00   NaN\n",
       "2002-02-20 15:00:00+00:00   NaN\n",
       "2002-02-20 15:30:00+00:00   NaN\n",
       "2002-02-20 16:00:00+00:00   NaN\n",
       "2002-02-20 16:30:00+00:00   NaN\n",
       "2002-02-20 17:00:00+00:00   NaN\n",
       "2002-02-20 17:30:00+00:00   NaN\n",
       "2002-02-20 18:00:00+00:00   NaN\n",
       "2002-02-20 18:30:00+00:00   NaN\n",
       "2002-02-20 19:00:00+00:00   NaN\n",
       "2002-02-20 19:30:00+00:00   NaN\n",
       "dtype: float64"
      ]
     },
     "execution_count": 251,
     "metadata": {},
     "output_type": "execute_result"
    }
   ],
   "source": [
    "q*w"
   ]
  },
  {
   "cell_type": "code",
   "execution_count": 252,
   "id": "affected-diamond",
   "metadata": {},
   "outputs": [
    {
     "data": {
      "text/html": [
       "<div>\n",
       "<style scoped>\n",
       "    .dataframe tbody tr th:only-of-type {\n",
       "        vertical-align: middle;\n",
       "    }\n",
       "\n",
       "    .dataframe tbody tr th {\n",
       "        vertical-align: top;\n",
       "    }\n",
       "\n",
       "    .dataframe thead th {\n",
       "        text-align: right;\n",
       "    }\n",
       "</style>\n",
       "<table border=\"1\" class=\"dataframe\">\n",
       "  <thead>\n",
       "    <tr style=\"text-align: right;\">\n",
       "      <th></th>\n",
       "      <th>Open</th>\n",
       "      <th>High</th>\n",
       "      <th>Low</th>\n",
       "      <th>Close</th>\n",
       "      <th>Adj Close</th>\n",
       "      <th>Volume</th>\n",
       "    </tr>\n",
       "    <tr>\n",
       "      <th>Date</th>\n",
       "      <th></th>\n",
       "      <th></th>\n",
       "      <th></th>\n",
       "      <th></th>\n",
       "      <th></th>\n",
       "      <th></th>\n",
       "    </tr>\n",
       "  </thead>\n",
       "  <tbody>\n",
       "    <tr>\n",
       "      <th>2020-09-24</th>\n",
       "      <td>105.169998</td>\n",
       "      <td>110.250000</td>\n",
       "      <td>105.000000</td>\n",
       "      <td>108.220001</td>\n",
       "      <td>107.528404</td>\n",
       "      <td>167743300</td>\n",
       "    </tr>\n",
       "    <tr>\n",
       "      <th>2020-09-25</th>\n",
       "      <td>108.430000</td>\n",
       "      <td>112.440002</td>\n",
       "      <td>107.669998</td>\n",
       "      <td>112.279999</td>\n",
       "      <td>111.562439</td>\n",
       "      <td>149981400</td>\n",
       "    </tr>\n",
       "    <tr>\n",
       "      <th>2020-09-28</th>\n",
       "      <td>115.010002</td>\n",
       "      <td>115.320000</td>\n",
       "      <td>112.779999</td>\n",
       "      <td>114.959999</td>\n",
       "      <td>114.225311</td>\n",
       "      <td>137672400</td>\n",
       "    </tr>\n",
       "    <tr>\n",
       "      <th>2020-09-29</th>\n",
       "      <td>114.550003</td>\n",
       "      <td>115.309998</td>\n",
       "      <td>113.570000</td>\n",
       "      <td>114.089996</td>\n",
       "      <td>113.360878</td>\n",
       "      <td>99382200</td>\n",
       "    </tr>\n",
       "    <tr>\n",
       "      <th>2020-09-30</th>\n",
       "      <td>113.790001</td>\n",
       "      <td>117.260002</td>\n",
       "      <td>113.620003</td>\n",
       "      <td>115.809998</td>\n",
       "      <td>115.069893</td>\n",
       "      <td>142675200</td>\n",
       "    </tr>\n",
       "    <tr>\n",
       "      <th>...</th>\n",
       "      <td>...</td>\n",
       "      <td>...</td>\n",
       "      <td>...</td>\n",
       "      <td>...</td>\n",
       "      <td>...</td>\n",
       "      <td>...</td>\n",
       "    </tr>\n",
       "    <tr>\n",
       "      <th>2021-09-17</th>\n",
       "      <td>148.820007</td>\n",
       "      <td>148.820007</td>\n",
       "      <td>145.759995</td>\n",
       "      <td>146.059998</td>\n",
       "      <td>146.059998</td>\n",
       "      <td>129728700</td>\n",
       "    </tr>\n",
       "    <tr>\n",
       "      <th>2021-09-20</th>\n",
       "      <td>143.800003</td>\n",
       "      <td>144.839996</td>\n",
       "      <td>141.270004</td>\n",
       "      <td>142.940002</td>\n",
       "      <td>142.940002</td>\n",
       "      <td>123478900</td>\n",
       "    </tr>\n",
       "    <tr>\n",
       "      <th>2021-09-21</th>\n",
       "      <td>143.929993</td>\n",
       "      <td>144.600006</td>\n",
       "      <td>142.779999</td>\n",
       "      <td>143.429993</td>\n",
       "      <td>143.429993</td>\n",
       "      <td>75834000</td>\n",
       "    </tr>\n",
       "    <tr>\n",
       "      <th>2021-09-22</th>\n",
       "      <td>144.449997</td>\n",
       "      <td>146.429993</td>\n",
       "      <td>143.699997</td>\n",
       "      <td>145.850006</td>\n",
       "      <td>145.850006</td>\n",
       "      <td>76404300</td>\n",
       "    </tr>\n",
       "    <tr>\n",
       "      <th>2021-09-23</th>\n",
       "      <td>146.649994</td>\n",
       "      <td>147.080002</td>\n",
       "      <td>145.639999</td>\n",
       "      <td>146.830002</td>\n",
       "      <td>146.830002</td>\n",
       "      <td>64755200</td>\n",
       "    </tr>\n",
       "  </tbody>\n",
       "</table>\n",
       "<p>252 rows × 6 columns</p>\n",
       "</div>"
      ],
      "text/plain": [
       "                  Open        High         Low       Close   Adj Close  \\\n",
       "Date                                                                     \n",
       "2020-09-24  105.169998  110.250000  105.000000  108.220001  107.528404   \n",
       "2020-09-25  108.430000  112.440002  107.669998  112.279999  111.562439   \n",
       "2020-09-28  115.010002  115.320000  112.779999  114.959999  114.225311   \n",
       "2020-09-29  114.550003  115.309998  113.570000  114.089996  113.360878   \n",
       "2020-09-30  113.790001  117.260002  113.620003  115.809998  115.069893   \n",
       "...                ...         ...         ...         ...         ...   \n",
       "2021-09-17  148.820007  148.820007  145.759995  146.059998  146.059998   \n",
       "2021-09-20  143.800003  144.839996  141.270004  142.940002  142.940002   \n",
       "2021-09-21  143.929993  144.600006  142.779999  143.429993  143.429993   \n",
       "2021-09-22  144.449997  146.429993  143.699997  145.850006  145.850006   \n",
       "2021-09-23  146.649994  147.080002  145.639999  146.830002  146.830002   \n",
       "\n",
       "               Volume  \n",
       "Date                   \n",
       "2020-09-24  167743300  \n",
       "2020-09-25  149981400  \n",
       "2020-09-28  137672400  \n",
       "2020-09-29   99382200  \n",
       "2020-09-30  142675200  \n",
       "...               ...  \n",
       "2021-09-17  129728700  \n",
       "2021-09-20  123478900  \n",
       "2021-09-21   75834000  \n",
       "2021-09-22   76404300  \n",
       "2021-09-23   64755200  \n",
       "\n",
       "[252 rows x 6 columns]"
      ]
     },
     "execution_count": 252,
     "metadata": {},
     "output_type": "execute_result"
    }
   ],
   "source": [
    "df"
   ]
  },
  {
   "cell_type": "code",
   "execution_count": 254,
   "id": "starting-slovakia",
   "metadata": {},
   "outputs": [
    {
     "data": {
      "text/html": [
       "<div>\n",
       "<style scoped>\n",
       "    .dataframe tbody tr th:only-of-type {\n",
       "        vertical-align: middle;\n",
       "    }\n",
       "\n",
       "    .dataframe tbody tr th {\n",
       "        vertical-align: top;\n",
       "    }\n",
       "\n",
       "    .dataframe thead th {\n",
       "        text-align: right;\n",
       "    }\n",
       "</style>\n",
       "<table border=\"1\" class=\"dataframe\">\n",
       "  <thead>\n",
       "    <tr style=\"text-align: right;\">\n",
       "      <th></th>\n",
       "      <th>Open</th>\n",
       "      <th>High</th>\n",
       "      <th>Low</th>\n",
       "      <th>Close</th>\n",
       "      <th>Adj Close</th>\n",
       "      <th>Volume</th>\n",
       "    </tr>\n",
       "    <tr>\n",
       "      <th>Date</th>\n",
       "      <th></th>\n",
       "      <th></th>\n",
       "      <th></th>\n",
       "      <th></th>\n",
       "      <th></th>\n",
       "      <th></th>\n",
       "    </tr>\n",
       "  </thead>\n",
       "  <tbody>\n",
       "    <tr>\n",
       "      <th>2020-09-24</th>\n",
       "      <td>NaN</td>\n",
       "      <td>NaN</td>\n",
       "      <td>NaN</td>\n",
       "      <td>NaN</td>\n",
       "      <td>NaN</td>\n",
       "      <td>NaN</td>\n",
       "    </tr>\n",
       "    <tr>\n",
       "      <th>2020-09-25</th>\n",
       "      <td>NaN</td>\n",
       "      <td>NaN</td>\n",
       "      <td>NaN</td>\n",
       "      <td>NaN</td>\n",
       "      <td>NaN</td>\n",
       "      <td>NaN</td>\n",
       "    </tr>\n",
       "    <tr>\n",
       "      <th>2020-09-28</th>\n",
       "      <td>105.169998</td>\n",
       "      <td>110.250000</td>\n",
       "      <td>105.000000</td>\n",
       "      <td>108.220001</td>\n",
       "      <td>107.528404</td>\n",
       "      <td>167743300.0</td>\n",
       "    </tr>\n",
       "    <tr>\n",
       "      <th>2020-09-29</th>\n",
       "      <td>108.430000</td>\n",
       "      <td>112.440002</td>\n",
       "      <td>107.669998</td>\n",
       "      <td>112.279999</td>\n",
       "      <td>111.562439</td>\n",
       "      <td>149981400.0</td>\n",
       "    </tr>\n",
       "    <tr>\n",
       "      <th>2020-09-30</th>\n",
       "      <td>115.010002</td>\n",
       "      <td>115.320000</td>\n",
       "      <td>112.779999</td>\n",
       "      <td>114.959999</td>\n",
       "      <td>114.225311</td>\n",
       "      <td>137672400.0</td>\n",
       "    </tr>\n",
       "    <tr>\n",
       "      <th>...</th>\n",
       "      <td>...</td>\n",
       "      <td>...</td>\n",
       "      <td>...</td>\n",
       "      <td>...</td>\n",
       "      <td>...</td>\n",
       "      <td>...</td>\n",
       "    </tr>\n",
       "    <tr>\n",
       "      <th>2021-09-17</th>\n",
       "      <td>148.559998</td>\n",
       "      <td>149.440002</td>\n",
       "      <td>146.369995</td>\n",
       "      <td>149.029999</td>\n",
       "      <td>149.029999</td>\n",
       "      <td>83281300.0</td>\n",
       "    </tr>\n",
       "    <tr>\n",
       "      <th>2021-09-20</th>\n",
       "      <td>148.440002</td>\n",
       "      <td>148.970001</td>\n",
       "      <td>147.220001</td>\n",
       "      <td>148.789993</td>\n",
       "      <td>148.789993</td>\n",
       "      <td>68034100.0</td>\n",
       "    </tr>\n",
       "    <tr>\n",
       "      <th>2021-09-21</th>\n",
       "      <td>148.820007</td>\n",
       "      <td>148.820007</td>\n",
       "      <td>145.759995</td>\n",
       "      <td>146.059998</td>\n",
       "      <td>146.059998</td>\n",
       "      <td>129728700.0</td>\n",
       "    </tr>\n",
       "    <tr>\n",
       "      <th>2021-09-22</th>\n",
       "      <td>143.800003</td>\n",
       "      <td>144.839996</td>\n",
       "      <td>141.270004</td>\n",
       "      <td>142.940002</td>\n",
       "      <td>142.940002</td>\n",
       "      <td>123478900.0</td>\n",
       "    </tr>\n",
       "    <tr>\n",
       "      <th>2021-09-23</th>\n",
       "      <td>143.929993</td>\n",
       "      <td>144.600006</td>\n",
       "      <td>142.779999</td>\n",
       "      <td>143.429993</td>\n",
       "      <td>143.429993</td>\n",
       "      <td>75834000.0</td>\n",
       "    </tr>\n",
       "  </tbody>\n",
       "</table>\n",
       "<p>252 rows × 6 columns</p>\n",
       "</div>"
      ],
      "text/plain": [
       "                  Open        High         Low       Close   Adj Close  \\\n",
       "Date                                                                     \n",
       "2020-09-24         NaN         NaN         NaN         NaN         NaN   \n",
       "2020-09-25         NaN         NaN         NaN         NaN         NaN   \n",
       "2020-09-28  105.169998  110.250000  105.000000  108.220001  107.528404   \n",
       "2020-09-29  108.430000  112.440002  107.669998  112.279999  111.562439   \n",
       "2020-09-30  115.010002  115.320000  112.779999  114.959999  114.225311   \n",
       "...                ...         ...         ...         ...         ...   \n",
       "2021-09-17  148.559998  149.440002  146.369995  149.029999  149.029999   \n",
       "2021-09-20  148.440002  148.970001  147.220001  148.789993  148.789993   \n",
       "2021-09-21  148.820007  148.820007  145.759995  146.059998  146.059998   \n",
       "2021-09-22  143.800003  144.839996  141.270004  142.940002  142.940002   \n",
       "2021-09-23  143.929993  144.600006  142.779999  143.429993  143.429993   \n",
       "\n",
       "                 Volume  \n",
       "Date                     \n",
       "2020-09-24          NaN  \n",
       "2020-09-25          NaN  \n",
       "2020-09-28  167743300.0  \n",
       "2020-09-29  149981400.0  \n",
       "2020-09-30  137672400.0  \n",
       "...                 ...  \n",
       "2021-09-17   83281300.0  \n",
       "2021-09-20   68034100.0  \n",
       "2021-09-21  129728700.0  \n",
       "2021-09-22  123478900.0  \n",
       "2021-09-23   75834000.0  \n",
       "\n",
       "[252 rows x 6 columns]"
      ]
     },
     "execution_count": 254,
     "metadata": {},
     "output_type": "execute_result"
    }
   ],
   "source": [
    "df.shift(2)"
   ]
  },
  {
   "cell_type": "code",
   "execution_count": 256,
   "id": "funky-sitting",
   "metadata": {},
   "outputs": [],
   "source": [
    "df[\"prev day price\"]=df.Close.shift(1)"
   ]
  },
  {
   "cell_type": "code",
   "execution_count": 257,
   "id": "interim-lincoln",
   "metadata": {},
   "outputs": [
    {
     "data": {
      "text/html": [
       "<div>\n",
       "<style scoped>\n",
       "    .dataframe tbody tr th:only-of-type {\n",
       "        vertical-align: middle;\n",
       "    }\n",
       "\n",
       "    .dataframe tbody tr th {\n",
       "        vertical-align: top;\n",
       "    }\n",
       "\n",
       "    .dataframe thead th {\n",
       "        text-align: right;\n",
       "    }\n",
       "</style>\n",
       "<table border=\"1\" class=\"dataframe\">\n",
       "  <thead>\n",
       "    <tr style=\"text-align: right;\">\n",
       "      <th></th>\n",
       "      <th>Open</th>\n",
       "      <th>High</th>\n",
       "      <th>Low</th>\n",
       "      <th>Close</th>\n",
       "      <th>Adj Close</th>\n",
       "      <th>Volume</th>\n",
       "      <th>prev day price</th>\n",
       "    </tr>\n",
       "    <tr>\n",
       "      <th>Date</th>\n",
       "      <th></th>\n",
       "      <th></th>\n",
       "      <th></th>\n",
       "      <th></th>\n",
       "      <th></th>\n",
       "      <th></th>\n",
       "      <th></th>\n",
       "    </tr>\n",
       "  </thead>\n",
       "  <tbody>\n",
       "    <tr>\n",
       "      <th>2020-09-24</th>\n",
       "      <td>105.169998</td>\n",
       "      <td>110.250000</td>\n",
       "      <td>105.000000</td>\n",
       "      <td>108.220001</td>\n",
       "      <td>107.528404</td>\n",
       "      <td>167743300</td>\n",
       "      <td>NaN</td>\n",
       "    </tr>\n",
       "    <tr>\n",
       "      <th>2020-09-25</th>\n",
       "      <td>108.430000</td>\n",
       "      <td>112.440002</td>\n",
       "      <td>107.669998</td>\n",
       "      <td>112.279999</td>\n",
       "      <td>111.562439</td>\n",
       "      <td>149981400</td>\n",
       "      <td>108.220001</td>\n",
       "    </tr>\n",
       "    <tr>\n",
       "      <th>2020-09-28</th>\n",
       "      <td>115.010002</td>\n",
       "      <td>115.320000</td>\n",
       "      <td>112.779999</td>\n",
       "      <td>114.959999</td>\n",
       "      <td>114.225311</td>\n",
       "      <td>137672400</td>\n",
       "      <td>112.279999</td>\n",
       "    </tr>\n",
       "    <tr>\n",
       "      <th>2020-09-29</th>\n",
       "      <td>114.550003</td>\n",
       "      <td>115.309998</td>\n",
       "      <td>113.570000</td>\n",
       "      <td>114.089996</td>\n",
       "      <td>113.360878</td>\n",
       "      <td>99382200</td>\n",
       "      <td>114.959999</td>\n",
       "    </tr>\n",
       "    <tr>\n",
       "      <th>2020-09-30</th>\n",
       "      <td>113.790001</td>\n",
       "      <td>117.260002</td>\n",
       "      <td>113.620003</td>\n",
       "      <td>115.809998</td>\n",
       "      <td>115.069893</td>\n",
       "      <td>142675200</td>\n",
       "      <td>114.089996</td>\n",
       "    </tr>\n",
       "    <tr>\n",
       "      <th>...</th>\n",
       "      <td>...</td>\n",
       "      <td>...</td>\n",
       "      <td>...</td>\n",
       "      <td>...</td>\n",
       "      <td>...</td>\n",
       "      <td>...</td>\n",
       "      <td>...</td>\n",
       "    </tr>\n",
       "    <tr>\n",
       "      <th>2021-09-17</th>\n",
       "      <td>148.820007</td>\n",
       "      <td>148.820007</td>\n",
       "      <td>145.759995</td>\n",
       "      <td>146.059998</td>\n",
       "      <td>146.059998</td>\n",
       "      <td>129728700</td>\n",
       "      <td>148.789993</td>\n",
       "    </tr>\n",
       "    <tr>\n",
       "      <th>2021-09-20</th>\n",
       "      <td>143.800003</td>\n",
       "      <td>144.839996</td>\n",
       "      <td>141.270004</td>\n",
       "      <td>142.940002</td>\n",
       "      <td>142.940002</td>\n",
       "      <td>123478900</td>\n",
       "      <td>146.059998</td>\n",
       "    </tr>\n",
       "    <tr>\n",
       "      <th>2021-09-21</th>\n",
       "      <td>143.929993</td>\n",
       "      <td>144.600006</td>\n",
       "      <td>142.779999</td>\n",
       "      <td>143.429993</td>\n",
       "      <td>143.429993</td>\n",
       "      <td>75834000</td>\n",
       "      <td>142.940002</td>\n",
       "    </tr>\n",
       "    <tr>\n",
       "      <th>2021-09-22</th>\n",
       "      <td>144.449997</td>\n",
       "      <td>146.429993</td>\n",
       "      <td>143.699997</td>\n",
       "      <td>145.850006</td>\n",
       "      <td>145.850006</td>\n",
       "      <td>76404300</td>\n",
       "      <td>143.429993</td>\n",
       "    </tr>\n",
       "    <tr>\n",
       "      <th>2021-09-23</th>\n",
       "      <td>146.649994</td>\n",
       "      <td>147.080002</td>\n",
       "      <td>145.639999</td>\n",
       "      <td>146.830002</td>\n",
       "      <td>146.830002</td>\n",
       "      <td>64755200</td>\n",
       "      <td>145.850006</td>\n",
       "    </tr>\n",
       "  </tbody>\n",
       "</table>\n",
       "<p>252 rows × 7 columns</p>\n",
       "</div>"
      ],
      "text/plain": [
       "                  Open        High         Low       Close   Adj Close  \\\n",
       "Date                                                                     \n",
       "2020-09-24  105.169998  110.250000  105.000000  108.220001  107.528404   \n",
       "2020-09-25  108.430000  112.440002  107.669998  112.279999  111.562439   \n",
       "2020-09-28  115.010002  115.320000  112.779999  114.959999  114.225311   \n",
       "2020-09-29  114.550003  115.309998  113.570000  114.089996  113.360878   \n",
       "2020-09-30  113.790001  117.260002  113.620003  115.809998  115.069893   \n",
       "...                ...         ...         ...         ...         ...   \n",
       "2021-09-17  148.820007  148.820007  145.759995  146.059998  146.059998   \n",
       "2021-09-20  143.800003  144.839996  141.270004  142.940002  142.940002   \n",
       "2021-09-21  143.929993  144.600006  142.779999  143.429993  143.429993   \n",
       "2021-09-22  144.449997  146.429993  143.699997  145.850006  145.850006   \n",
       "2021-09-23  146.649994  147.080002  145.639999  146.830002  146.830002   \n",
       "\n",
       "               Volume  prev day price  \n",
       "Date                                   \n",
       "2020-09-24  167743300             NaN  \n",
       "2020-09-25  149981400      108.220001  \n",
       "2020-09-28  137672400      112.279999  \n",
       "2020-09-29   99382200      114.959999  \n",
       "2020-09-30  142675200      114.089996  \n",
       "...               ...             ...  \n",
       "2021-09-17  129728700      148.789993  \n",
       "2021-09-20  123478900      146.059998  \n",
       "2021-09-21   75834000      142.940002  \n",
       "2021-09-22   76404300      143.429993  \n",
       "2021-09-23   64755200      145.850006  \n",
       "\n",
       "[252 rows x 7 columns]"
      ]
     },
     "execution_count": 257,
     "metadata": {},
     "output_type": "execute_result"
    }
   ],
   "source": [
    "df"
   ]
  },
  {
   "cell_type": "code",
   "execution_count": 260,
   "id": "technical-stick",
   "metadata": {},
   "outputs": [
    {
     "data": {
      "text/plain": [
       "Date\n",
       "2020-09-24         NaN\n",
       "2020-09-25    4.059998\n",
       "2020-09-28    2.680000\n",
       "2020-09-29   -0.870003\n",
       "2020-09-30    1.720002\n",
       "                ...   \n",
       "2021-09-17   -2.729995\n",
       "2021-09-20   -3.119996\n",
       "2021-09-21    0.489991\n",
       "2021-09-22    2.420013\n",
       "2021-09-23    0.979996\n",
       "Length: 252, dtype: float64"
      ]
     },
     "execution_count": 260,
     "metadata": {},
     "output_type": "execute_result"
    }
   ],
   "source": [
    "(df[\"Close\"]-df[\"prev day price\"])"
   ]
  },
  {
   "cell_type": "code",
   "execution_count": 262,
   "id": "herbal-territory",
   "metadata": {},
   "outputs": [],
   "source": [
    "df=df[[\"Close\"]]"
   ]
  },
  {
   "cell_type": "code",
   "execution_count": 264,
   "id": "blank-economics",
   "metadata": {},
   "outputs": [
    {
     "data": {
      "text/html": [
       "<div>\n",
       "<style scoped>\n",
       "    .dataframe tbody tr th:only-of-type {\n",
       "        vertical-align: middle;\n",
       "    }\n",
       "\n",
       "    .dataframe tbody tr th {\n",
       "        vertical-align: top;\n",
       "    }\n",
       "\n",
       "    .dataframe thead th {\n",
       "        text-align: right;\n",
       "    }\n",
       "</style>\n",
       "<table border=\"1\" class=\"dataframe\">\n",
       "  <thead>\n",
       "    <tr style=\"text-align: right;\">\n",
       "      <th></th>\n",
       "      <th>Close</th>\n",
       "    </tr>\n",
       "    <tr>\n",
       "      <th>Date</th>\n",
       "      <th></th>\n",
       "    </tr>\n",
       "  </thead>\n",
       "  <tbody>\n",
       "    <tr>\n",
       "      <th>2020-09-24</th>\n",
       "      <td>108.220001</td>\n",
       "    </tr>\n",
       "    <tr>\n",
       "      <th>2020-09-25</th>\n",
       "      <td>112.279999</td>\n",
       "    </tr>\n",
       "    <tr>\n",
       "      <th>2020-09-28</th>\n",
       "      <td>114.959999</td>\n",
       "    </tr>\n",
       "    <tr>\n",
       "      <th>2020-09-29</th>\n",
       "      <td>114.089996</td>\n",
       "    </tr>\n",
       "    <tr>\n",
       "      <th>2020-09-30</th>\n",
       "      <td>115.809998</td>\n",
       "    </tr>\n",
       "    <tr>\n",
       "      <th>...</th>\n",
       "      <td>...</td>\n",
       "    </tr>\n",
       "    <tr>\n",
       "      <th>2021-09-17</th>\n",
       "      <td>146.059998</td>\n",
       "    </tr>\n",
       "    <tr>\n",
       "      <th>2021-09-20</th>\n",
       "      <td>142.940002</td>\n",
       "    </tr>\n",
       "    <tr>\n",
       "      <th>2021-09-21</th>\n",
       "      <td>143.429993</td>\n",
       "    </tr>\n",
       "    <tr>\n",
       "      <th>2021-09-22</th>\n",
       "      <td>145.850006</td>\n",
       "    </tr>\n",
       "    <tr>\n",
       "      <th>2021-09-23</th>\n",
       "      <td>146.830002</td>\n",
       "    </tr>\n",
       "  </tbody>\n",
       "</table>\n",
       "<p>252 rows × 1 columns</p>\n",
       "</div>"
      ],
      "text/plain": [
       "                 Close\n",
       "Date                  \n",
       "2020-09-24  108.220001\n",
       "2020-09-25  112.279999\n",
       "2020-09-28  114.959999\n",
       "2020-09-29  114.089996\n",
       "2020-09-30  115.809998\n",
       "...                ...\n",
       "2021-09-17  146.059998\n",
       "2021-09-20  142.940002\n",
       "2021-09-21  143.429993\n",
       "2021-09-22  145.850006\n",
       "2021-09-23  146.830002\n",
       "\n",
       "[252 rows x 1 columns]"
      ]
     },
     "execution_count": 264,
     "metadata": {},
     "output_type": "execute_result"
    }
   ],
   "source": [
    "df"
   ]
  },
  {
   "cell_type": "code",
   "execution_count": 265,
   "id": "affected-cursor",
   "metadata": {},
   "outputs": [
    {
     "data": {
      "text/plain": [
       "DatetimeIndex(['2020-09-24', '2020-09-25', '2020-09-28', '2020-09-29',\n",
       "               '2020-09-30', '2020-10-01', '2020-10-02', '2020-10-05',\n",
       "               '2020-10-06', '2020-10-07',\n",
       "               ...\n",
       "               '2021-09-10', '2021-09-13', '2021-09-14', '2021-09-15',\n",
       "               '2021-09-16', '2021-09-17', '2021-09-20', '2021-09-21',\n",
       "               '2021-09-22', '2021-09-23'],\n",
       "              dtype='datetime64[ns]', name='Date', length=252, freq=None)"
      ]
     },
     "execution_count": 265,
     "metadata": {},
     "output_type": "execute_result"
    }
   ],
   "source": [
    "df.index"
   ]
  },
  {
   "cell_type": "code",
   "execution_count": 275,
   "id": "moral-reggae",
   "metadata": {},
   "outputs": [],
   "source": [
    "df.index= pd.date_range(start=\"2020-09-24\", periods=252, freq=\"B\")"
   ]
  },
  {
   "cell_type": "code",
   "execution_count": 276,
   "id": "driving-alexandria",
   "metadata": {},
   "outputs": [
    {
     "data": {
      "text/plain": [
       "DatetimeIndex(['2020-09-24', '2020-09-25', '2020-09-28', '2020-09-29',\n",
       "               '2020-09-30', '2020-10-01', '2020-10-02', '2020-10-05',\n",
       "               '2020-10-06', '2020-10-07',\n",
       "               ...\n",
       "               '2021-08-30', '2021-08-31', '2021-09-01', '2021-09-02',\n",
       "               '2021-09-03', '2021-09-06', '2021-09-07', '2021-09-08',\n",
       "               '2021-09-09', '2021-09-10'],\n",
       "              dtype='datetime64[ns]', length=252, freq='B')"
      ]
     },
     "execution_count": 276,
     "metadata": {},
     "output_type": "execute_result"
    }
   ],
   "source": [
    "df.index"
   ]
  },
  {
   "cell_type": "code",
   "execution_count": 277,
   "id": "grand-fifth",
   "metadata": {},
   "outputs": [
    {
     "data": {
      "text/html": [
       "<div>\n",
       "<style scoped>\n",
       "    .dataframe tbody tr th:only-of-type {\n",
       "        vertical-align: middle;\n",
       "    }\n",
       "\n",
       "    .dataframe tbody tr th {\n",
       "        vertical-align: top;\n",
       "    }\n",
       "\n",
       "    .dataframe thead th {\n",
       "        text-align: right;\n",
       "    }\n",
       "</style>\n",
       "<table border=\"1\" class=\"dataframe\">\n",
       "  <thead>\n",
       "    <tr style=\"text-align: right;\">\n",
       "      <th></th>\n",
       "      <th>Close</th>\n",
       "    </tr>\n",
       "  </thead>\n",
       "  <tbody>\n",
       "    <tr>\n",
       "      <th>2020-09-24</th>\n",
       "      <td>108.220001</td>\n",
       "    </tr>\n",
       "    <tr>\n",
       "      <th>2020-09-25</th>\n",
       "      <td>112.279999</td>\n",
       "    </tr>\n",
       "    <tr>\n",
       "      <th>2020-09-28</th>\n",
       "      <td>114.959999</td>\n",
       "    </tr>\n",
       "    <tr>\n",
       "      <th>2020-09-29</th>\n",
       "      <td>114.089996</td>\n",
       "    </tr>\n",
       "    <tr>\n",
       "      <th>2020-09-30</th>\n",
       "      <td>115.809998</td>\n",
       "    </tr>\n",
       "    <tr>\n",
       "      <th>...</th>\n",
       "      <td>...</td>\n",
       "    </tr>\n",
       "    <tr>\n",
       "      <th>2021-09-06</th>\n",
       "      <td>146.059998</td>\n",
       "    </tr>\n",
       "    <tr>\n",
       "      <th>2021-09-07</th>\n",
       "      <td>142.940002</td>\n",
       "    </tr>\n",
       "    <tr>\n",
       "      <th>2021-09-08</th>\n",
       "      <td>143.429993</td>\n",
       "    </tr>\n",
       "    <tr>\n",
       "      <th>2021-09-09</th>\n",
       "      <td>145.850006</td>\n",
       "    </tr>\n",
       "    <tr>\n",
       "      <th>2021-09-10</th>\n",
       "      <td>146.830002</td>\n",
       "    </tr>\n",
       "  </tbody>\n",
       "</table>\n",
       "<p>252 rows × 1 columns</p>\n",
       "</div>"
      ],
      "text/plain": [
       "                 Close\n",
       "2020-09-24  108.220001\n",
       "2020-09-25  112.279999\n",
       "2020-09-28  114.959999\n",
       "2020-09-29  114.089996\n",
       "2020-09-30  115.809998\n",
       "...                ...\n",
       "2021-09-06  146.059998\n",
       "2021-09-07  142.940002\n",
       "2021-09-08  143.429993\n",
       "2021-09-09  145.850006\n",
       "2021-09-10  146.830002\n",
       "\n",
       "[252 rows x 1 columns]"
      ]
     },
     "execution_count": 277,
     "metadata": {},
     "output_type": "execute_result"
    }
   ],
   "source": [
    "df"
   ]
  },
  {
   "cell_type": "code",
   "execution_count": 281,
   "id": "annual-circumstances",
   "metadata": {},
   "outputs": [
    {
     "name": "stderr",
     "output_type": "stream",
     "text": [
      "<ipython-input-281-802988c20408>:1: FutureWarning: tshift is deprecated and will be removed in a future version. Please use shift instead.\n",
      "  df.tshift(10)\n"
     ]
    },
    {
     "data": {
      "text/html": [
       "<div>\n",
       "<style scoped>\n",
       "    .dataframe tbody tr th:only-of-type {\n",
       "        vertical-align: middle;\n",
       "    }\n",
       "\n",
       "    .dataframe tbody tr th {\n",
       "        vertical-align: top;\n",
       "    }\n",
       "\n",
       "    .dataframe thead th {\n",
       "        text-align: right;\n",
       "    }\n",
       "</style>\n",
       "<table border=\"1\" class=\"dataframe\">\n",
       "  <thead>\n",
       "    <tr style=\"text-align: right;\">\n",
       "      <th></th>\n",
       "      <th>Close</th>\n",
       "    </tr>\n",
       "  </thead>\n",
       "  <tbody>\n",
       "    <tr>\n",
       "      <th>2020-10-08</th>\n",
       "      <td>108.220001</td>\n",
       "    </tr>\n",
       "    <tr>\n",
       "      <th>2020-10-09</th>\n",
       "      <td>112.279999</td>\n",
       "    </tr>\n",
       "    <tr>\n",
       "      <th>2020-10-12</th>\n",
       "      <td>114.959999</td>\n",
       "    </tr>\n",
       "    <tr>\n",
       "      <th>2020-10-13</th>\n",
       "      <td>114.089996</td>\n",
       "    </tr>\n",
       "    <tr>\n",
       "      <th>2020-10-14</th>\n",
       "      <td>115.809998</td>\n",
       "    </tr>\n",
       "    <tr>\n",
       "      <th>...</th>\n",
       "      <td>...</td>\n",
       "    </tr>\n",
       "    <tr>\n",
       "      <th>2021-09-20</th>\n",
       "      <td>146.059998</td>\n",
       "    </tr>\n",
       "    <tr>\n",
       "      <th>2021-09-21</th>\n",
       "      <td>142.940002</td>\n",
       "    </tr>\n",
       "    <tr>\n",
       "      <th>2021-09-22</th>\n",
       "      <td>143.429993</td>\n",
       "    </tr>\n",
       "    <tr>\n",
       "      <th>2021-09-23</th>\n",
       "      <td>145.850006</td>\n",
       "    </tr>\n",
       "    <tr>\n",
       "      <th>2021-09-24</th>\n",
       "      <td>146.830002</td>\n",
       "    </tr>\n",
       "  </tbody>\n",
       "</table>\n",
       "<p>252 rows × 1 columns</p>\n",
       "</div>"
      ],
      "text/plain": [
       "                 Close\n",
       "2020-10-08  108.220001\n",
       "2020-10-09  112.279999\n",
       "2020-10-12  114.959999\n",
       "2020-10-13  114.089996\n",
       "2020-10-14  115.809998\n",
       "...                ...\n",
       "2021-09-20  146.059998\n",
       "2021-09-21  142.940002\n",
       "2021-09-22  143.429993\n",
       "2021-09-23  145.850006\n",
       "2021-09-24  146.830002\n",
       "\n",
       "[252 rows x 1 columns]"
      ]
     },
     "execution_count": 281,
     "metadata": {},
     "output_type": "execute_result"
    }
   ],
   "source": [
    "df.tshift(10)"
   ]
  },
  {
   "cell_type": "code",
   "execution_count": null,
   "id": "apart-institution",
   "metadata": {},
   "outputs": [],
   "source": []
  },
  {
   "cell_type": "code",
   "execution_count": null,
   "id": "public-excerpt",
   "metadata": {},
   "outputs": [],
   "source": []
  },
  {
   "cell_type": "code",
   "execution_count": null,
   "id": "strong-falls",
   "metadata": {},
   "outputs": [],
   "source": []
  },
  {
   "cell_type": "code",
   "execution_count": null,
   "id": "ambient-spirituality",
   "metadata": {},
   "outputs": [],
   "source": []
  },
  {
   "cell_type": "code",
   "execution_count": null,
   "id": "still-fashion",
   "metadata": {},
   "outputs": [],
   "source": []
  },
  {
   "cell_type": "code",
   "execution_count": null,
   "id": "criminal-testing",
   "metadata": {},
   "outputs": [],
   "source": []
  }
 ],
 "metadata": {
  "kernelspec": {
   "display_name": "Python 3",
   "language": "python",
   "name": "python3"
  },
  "language_info": {
   "codemirror_mode": {
    "name": "ipython",
    "version": 3
   },
   "file_extension": ".py",
   "mimetype": "text/x-python",
   "name": "python",
   "nbconvert_exporter": "python",
   "pygments_lexer": "ipython3",
   "version": "3.9.4"
  }
 },
 "nbformat": 4,
 "nbformat_minor": 5
}
